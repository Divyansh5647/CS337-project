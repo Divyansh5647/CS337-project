{
  "cells": [
    {
      "attachments": {},
      "cell_type": "markdown",
      "metadata": {
        "id": "RhFZcSy7PhDV"
      },
      "source": [
        "# Imports"
      ]
    },
    {
      "cell_type": "code",
      "execution_count": 1,
      "metadata": {
        "id": "_k-5hsOOPWY2"
      },
      "outputs": [
        {
          "name": "stderr",
          "output_type": "stream",
          "text": [
            "/users/ug21/divsinghal/.local/lib/python3.9/site-packages/tqdm/auto.py:21: TqdmWarning: IProgress not found. Please update jupyter and ipywidgets. See https://ipywidgets.readthedocs.io/en/stable/user_install.html\n",
            "  from .autonotebook import tqdm as notebook_tqdm\n"
          ]
        }
      ],
      "source": [
        "import torch\n",
        "from torch import Tensor\n",
        "import torch.nn as nn\n",
        "import torch.nn.functional as F\n",
        "import numpy as np\n",
        "from torchvision.datasets import CIFAR10, CIFAR100\n",
        "from torchvision import transforms\n",
        "from torch.utils.data import TensorDataset, DataLoader, random_split\n",
        "import matplotlib.pyplot as plt\n",
        "import torchvision.utils as vision_utils\n",
        "from scipy.stats import truncnorm\n",
        "import torchvision\n",
        "from matplotlib.ticker import NullFormatter\n",
        "import copy\n",
        "from typing import Any, Callable, List, Optional, Type, Union\n",
        "\n",
        "\n",
        "DEVICE = torch.device('cuda:3')"
      ]
    },
    {
      "cell_type": "code",
      "execution_count": 2,
      "metadata": {
        "id": "AyIgzsvDWccv"
      },
      "outputs": [],
      "source": [
        "import gc\n",
        "import random\n",
        "import os\n",
        "def seed_everything(seed: int):\n",
        "   # This is a utility function you can use for all your ML applications\n",
        "   # More generic than you would need for this particular assignment\n",
        "   gc.collect()\n",
        "   torch.cuda.empty_cache()\n",
        "   random.seed(seed)\n",
        "   os.environ['PYTHONHASHSEED'] = str(seed)\n",
        "   torch.manual_seed(seed)\n",
        "   torch.cuda.manual_seed(seed)\n",
        "   torch.backends.cudnn.deterministic = True\n",
        "   torch.backends.cudnn.benchmark = False\n",
        "seed_everything(200)\n",
        "\n",
        "classes_nums = [2,5,10,20,50]\n",
        "# alphas = [0.001,0.001,0.001,0.001,0.001]\n",
        "alphas = [0.005]*5"
      ]
    },
    {
      "attachments": {},
      "cell_type": "markdown",
      "metadata": {
        "id": "gmZ6NTmggizB"
      },
      "source": [
        "# Fetch CIFAR100\n"
      ]
    },
    {
      "cell_type": "code",
      "execution_count": 3,
      "metadata": {
        "id": "dzQNuVhKbhMV"
      },
      "outputs": [],
      "source": [
        "def plot_samples(dataset, nrow=13, figsize=(10,7)):\n",
        "  try:\n",
        "    X, Y = dataset.tensors\n",
        "  except:\n",
        "    try:\n",
        "      (X,) = dataset.tensors\n",
        "    except:\n",
        "      X = dataset\n",
        "  fig = plt.figure(figsize=figsize, dpi=130)\n",
        "  grid_img = vision_utils.make_grid(X[:nrow].cpu(), nrow=nrow, normalize=True, padding=1)\n",
        "  _ = plt.imshow(grid_img.permute(1, 2, 0), interpolation='nearest')\n",
        "  _ = plt.tick_params(axis=u'both', which=u'both',length=0)\n",
        "  ax = plt.gca()\n",
        "  _ = ax.xaxis.set_major_formatter(NullFormatter())\n",
        "  _ = ax.yaxis.set_major_formatter(NullFormatter())\n",
        "  plt.show()"
      ]
    },
    {
      "cell_type": "code",
      "execution_count": 4,
      "metadata": {
        "id": "G7_X0uDBKW7O"
      },
      "outputs": [],
      "source": [
        "def get_pytorch_dataset(dataset, device, classes_to_keep=None):\n",
        "  X, Y = [], []\n",
        "  for x, y in dataset:\n",
        "    if classes_to_keep is not None and y in classes_to_keep:\n",
        "      X.append(torch.tensor(x))\n",
        "      Y.append(y)\n",
        "    elif classes_to_keep is None:\n",
        "      X.append(torch.tensor(x))\n",
        "      Y.append(y)\n",
        "  X = torch.stack(X).to(device)\n",
        "  Y = torch.tensor(Y).long().to(device)\n",
        "  return TensorDataset(X, Y)"
      ]
    },
    {
      "cell_type": "code",
      "execution_count": 5,
      "metadata": {
        "colab": {
          "base_uri": "https://localhost:8080/",
          "height": 359
        },
        "id": "NnT896EPeOtZ",
        "outputId": "644d7add-c122-49b6-ee42-18ae4b011284"
      },
      "outputs": [
        {
          "name": "stdout",
          "output_type": "stream",
          "text": [
            "Files already downloaded and verified\n",
            "Files already downloaded and verified\n"
          ]
        },
        {
          "name": "stderr",
          "output_type": "stream",
          "text": [
            "/tmp/ipykernel_1619242/1447088094.py:5: UserWarning: To copy construct from a tensor, it is recommended to use sourceTensor.clone().detach() or sourceTensor.clone().detach().requires_grad_(True), rather than torch.tensor(sourceTensor).\n",
            "  X.append(torch.tensor(x))\n"
          ]
        },
        {
          "name": "stdout",
          "output_type": "stream",
          "text": [
            "Files already downloaded and verified\n",
            "Files already downloaded and verified\n",
            "Files already downloaded and verified\n",
            "Files already downloaded and verified\n",
            "Files already downloaded and verified\n",
            "Files already downloaded and verified\n",
            "Files already downloaded and verified\n",
            "Files already downloaded and verified\n"
          ]
        },
        {
          "data": {
            "image/png": "[encoded data removed]",
            "text/plain": [
              "<Figure size 1300x910 with 1 Axes>"
            ]
          },
          "metadata": {},
          "output_type": "display_data"
        }
      ],
      "source": [
        "train_datas = []\n",
        "test_datas = []\n",
        "valid_datas = []\n",
        "train_dls = []\n",
        "valid_dls = []\n",
        "test_dls = []\n",
        "for num_classes in classes_nums :\n",
        "  train_data = CIFAR100(root='./data', train=True, download=True, transform=transforms.ToTensor())\n",
        "  test_data = CIFAR100(root='./data', train=False, download=True, transform=transforms.ToTensor())\n",
        "\n",
        "  train_data, valid_data = random_split(train_data, [45000, 5000])\n",
        "\n",
        "  train_data = get_pytorch_dataset(train_data, DEVICE, classes_to_keep=range(num_classes))\n",
        "  valid_data = get_pytorch_dataset(valid_data, DEVICE, classes_to_keep=range(num_classes))\n",
        "  test_data = get_pytorch_dataset(test_data, DEVICE, classes_to_keep=range(num_classes))\n",
        "\n",
        "  train_dl = DataLoader(train_data, batch_size=256, shuffle=True)\n",
        "  valid_dl = DataLoader(valid_data, batch_size=1024, shuffle=False)\n",
        "  test_dl  = DataLoader(test_data, batch_size=1024, shuffle=False)\n",
        "  train_datas.append(train_data)\n",
        "  test_datas.append(test_data)\n",
        "  valid_datas.append(valid_dl)\n",
        "  train_dls.append(train_dl)\n",
        "  valid_dls.append(valid_dl)\n",
        "  test_dls.append(test_dl)\n",
        "\n",
        "# classes = ('plane', 'car', 'bird', 'cat', 'deer', 'dog', 'frog', 'horse', 'ship', 'truck')\n",
        "\n",
        "# print(f\"Train size: {len(train_dl.dataset)}\")\n",
        "# print(f\"Valid size: {len(valid_dl.dataset)}\")\n",
        "# print(f\"Test size: {len(test_dl.dataset)}\")\n",
        "\n",
        "plot_samples(train_data)"
      ]
    },
    {
      "cell_type": "code",
      "execution_count": 6,
      "metadata": {
        "colab": {
          "base_uri": "https://localhost:8080/",
          "height": 122
        },
        "id": "mToyyfkHVWJU",
        "outputId": "25b7202d-fdda-4c8f-f589-a25c84b0aac8"
      },
      "outputs": [
        {
          "data": {
            "image/png": "[encoded data removed]",
            "text/plain": [
              "<Figure size 1300x910 with 1 Axes>"
            ]
          },
          "metadata": {},
          "output_type": "display_data"
        }
      ],
      "source": [
        "plot_samples(test_data)\n"
      ]
    },
    {
      "attachments": {},
      "cell_type": "markdown",
      "metadata": {
        "id": "BItd8EhN9P15"
      },
      "source": [
        "# Get $\\mathcal{D}_\\text{ood}$"
      ]
    },
    {
      "cell_type": "code",
      "execution_count": 7,
      "metadata": {
        "colab": {
          "base_uri": "https://localhost:8080/",
          "height": 450
        },
        "id": "pdHlapyl9STS",
        "outputId": "5749e475-639f-4a30-97d0-6fe2a6a64475"
      },
      "outputs": [
        {
          "name": "stdout",
          "output_type": "stream",
          "text": [
            "Files already downloaded and verified\n",
            "Files already downloaded and verified\n"
          ]
        },
        {
          "name": "stderr",
          "output_type": "stream",
          "text": [
            "/tmp/ipykernel_1619242/1447088094.py:5: UserWarning: To copy construct from a tensor, it is recommended to use sourceTensor.clone().detach() or sourceTensor.clone().detach().requires_grad_(True), rather than torch.tensor(sourceTensor).\n",
            "  X.append(torch.tensor(x))\n"
          ]
        },
        {
          "name": "stdout",
          "output_type": "stream",
          "text": [
            "OOD size: 1200\n",
            "Files already downloaded and verified\n",
            "Files already downloaded and verified\n",
            "OOD size: 3000\n",
            "Files already downloaded and verified\n",
            "Files already downloaded and verified\n",
            "OOD size: 6000\n",
            "Files already downloaded and verified\n",
            "Files already downloaded and verified\n",
            "OOD size: 12000\n",
            "Files already downloaded and verified\n",
            "Files already downloaded and verified\n",
            "OOD size: 30000\n"
          ]
        },
        {
          "data": {
            "image/png": "[encoded data removed]",
            "text/plain": [
              "<Figure size 1300x910 with 1 Axes>"
            ]
          },
          "metadata": {},
          "output_type": "display_data"
        }
      ],
      "source": [
        "perturb_dls = []\n",
        "for num_classes in classes_nums :\n",
        "  train_data = CIFAR100(root='./data', train=True, download=True, transform=transforms.ToTensor())\n",
        "  test_data = CIFAR100(root='./data', train=False, download=True, transform=transforms.ToTensor())\n",
        "\n",
        "  train_data = get_pytorch_dataset(train_data, DEVICE, classes_to_keep=range(50, 50+num_classes))\n",
        "  test_data = get_pytorch_dataset(test_data, DEVICE, classes_to_keep=range(50, 50+num_classes))\n",
        "\n",
        "  X_train, Y_train = train_data.tensors\n",
        "  X_test, Y_test = test_data.tensors\n",
        "\n",
        "  perturb_data = TensorDataset(torch.cat((X_train, X_test)), torch.cat((Y_train, Y_test)))\n",
        "\n",
        "  perturb_dl = DataLoader(perturb_data, batch_size=256, shuffle=True)\n",
        "  perturb_dls.append(perturb_dl)\n",
        "\n",
        "  print(f\"OOD size: {len(perturb_dl.dataset)}\")\n",
        "\n",
        "plot_samples(perturb_data)"
      ]
    },
    {
      "attachments": {},
      "cell_type": "markdown",
      "metadata": {
        "id": "KZd-vKDnglGB"
      },
      "source": [
        "# Fetch CIFAR100"
      ]
    },
    {
      "cell_type": "code",
      "execution_count": 8,
      "metadata": {
        "id": "kMw1LraQeOwx"
      },
      "outputs": [],
      "source": [
        "# test_data_c100 = CIFAR100(root='./data', train=False, download=True, transform=transforms.ToTensor())\n",
        "\n",
        "# test_data_c100 = get_pytorch_dataset(test_data_c100, DEVICE)\n",
        "\n",
        "# test_dl_c100  = DataLoader(test_data_c100, batch_size=1024, shuffle=False)\n",
        "\n",
        "# print(f\"Test size: {len(test_dl_c100.dataset)}\")\n",
        "\n",
        "# plot_samples(test_data_c100)"
      ]
    },
    {
      "attachments": {},
      "cell_type": "markdown",
      "metadata": {
        "id": "lx6C0Bt-g2Nw"
      },
      "source": [
        "# Model\n",
        "\n",
        "This is a ResNet-18 with added dropout for MC-dropout. The fist convolution (conv1) is modified for better results on CIFAR-10:\n",
        "* `kernel_size`: 7 --> 3\n",
        "* `stride`: 2 --> 1\n",
        "* `padding`: 3 -->1\n",
        "\n",
        "The method `model.set_sample(True)` can be used to keep using dropout even with the model in eval mode (to prevent updating batch-norm parameters)."
      ]
    },
    {
      "attachments": {},
      "cell_type": "markdown",
      "metadata": {
        "id": "OAsaE_Yug6wl"
      },
      "source": [
        "# Utils"
      ]
    },
    {
      "cell_type": "code",
      "execution_count": 9,
      "metadata": {
        "id": "ShBRKRhVeO3F"
      },
      "outputs": [],
      "source": [
        "@torch.no_grad()\n",
        "def get_acc(model, dl): # Eval without dropout\n",
        "  model.eval()\n",
        "  # model.set_sample(False)\n",
        "  acc = []\n",
        "  for X, y in dl:\n",
        "    acc.append(torch.argmax(model(X), dim=1) == y)\n",
        "  acc = torch.cat(acc)\n",
        "  acc = torch.sum(acc)/len(acc)\n",
        "  model.train()\n",
        "  # model.set_sample(True)\n",
        "  return acc.item()\n",
        "\n",
        "\n",
        "@torch.no_grad()\n",
        "def get_ensemble_acc(models, dl): # Eval without dropout, eval the ensemble\n",
        "  for model in models:\n",
        "    model.eval()\n",
        "    # model.set_sample(False)\n",
        "  acc = []\n",
        "  for X, y in dl:\n",
        "    outs = [torch.softmax(model(X), dim=1) for model in models]\n",
        "    outs = torch.stack(outs, dim=0).mean(dim=0)\n",
        "    acc.append(torch.argmax(outs, dim=1) == y)\n",
        "  acc = torch.cat(acc)\n",
        "  acc = torch.sum(acc)/len(acc)\n",
        "  for model in models:\n",
        "    model.train()\n",
        "    # model.set_sample(True)\n",
        "  return acc.item()\n",
        "\n",
        "\n",
        "@torch.no_grad()\n",
        "def get_probas_mcd(model, dl, num_samples=10, use_dropout=True):\n",
        "  # return the proabilities for samples using MC-dropout (unless use_dropout=False)\n",
        "  model.eval()\n",
        "  # model.set_sample(use_dropout)\n",
        "  probs = []\n",
        "  for X, y in dl:\n",
        "    outs = [model(X) for x in range(num_samples)]\n",
        "    ps = [torch.softmax(out, dim=1) for out in outs]\n",
        "    mean_ps = torch.stack(ps).mean(dim=0)\n",
        "    probs.append(mean_ps)\n",
        "  probs = torch.cat(probs)\n",
        "  return probs\n",
        "\n",
        "\n",
        "@torch.no_grad()\n",
        "def get_probas_ensemble(models, dl):\n",
        "  for model in models:\n",
        "    model.eval()\n",
        "    # model.set_sample(False)\n",
        "  probs = []\n",
        "  for X, y in dl:\n",
        "    outs = [model(X) for model in models]\n",
        "    ps = [torch.softmax(out, dim=1) for out in outs]\n",
        "    mean_ps = torch.stack(ps).mean(dim=0)\n",
        "    probs.append(mean_ps)\n",
        "  probs = torch.cat(probs)\n",
        "  return probs\n",
        "\n",
        "\n",
        "def plot_hist(probas):\n",
        "  fig, (ax) = plt.subplots(1,1,figsize=(3,3), dpi=110)\n",
        "\n",
        "  ax.grid()\n",
        "\n",
        "  ax.set_xlabel(\"largest probability\")\n",
        "  ax.set_ylabel(\"Number of datapoints\")\n",
        "\n",
        "  _ = ax.hist(probas, bins=[0,0.1,0.2,0.3,0.4,0.5,0.6,0.7,0.8,0.9,1], linestyle='solid', color='g')\n",
        "  ax.set_xlim(0, 1)"
      ]
    },
    {
      "attachments": {},
      "cell_type": "markdown",
      "metadata": {
        "id": "l69yadXVg8XU"
      },
      "source": [
        "# Training utils"
      ]
    },
    {
      "cell_type": "code",
      "execution_count": 10,
      "metadata": {
        "id": "pijU4JqXg8gM"
      },
      "outputs": [],
      "source": [
        "import torchvision.models as model_zoo\n",
        "def dl_to_sampler(dl):\n",
        "  dl_iter = iter(dl)\n",
        "  def sample():\n",
        "    nonlocal dl_iter\n",
        "    try:\n",
        "      return next(dl_iter)\n",
        "    except StopIteration:\n",
        "      dl_iter = iter(dl)\n",
        "      return next(dl_iter)\n",
        "  return sample\n",
        "\n",
        "def m_f(num_classes=2):\n",
        "    m = model_zoo.resnet18(pretrained=True)\n",
        "    d = m.fc.in_features\n",
        "    m.fc = nn.Linear(d, num_classes)\n",
        "    return m.to(DEVICE)\n",
        "\n",
        "def sequential_train(num_models, train_dl, valid_dl, perturb_dl, alpha=1, max_epoch=30,\n",
        "                     use_diversity_reg=True, lr=0.2, weight_decay=1e-5, dropout=0.2,num_classes=2):\n",
        "  seed_everything(200)\n",
        "  models = [m_f(num_classes=num_classes) for _ in range(num_models)]\n",
        "\n",
        "  stats = {f\"m{i+1}\": {\"acc\": [], \"loss\": [], \"adv-loss\": []} for i in range(len(models))}\n",
        "\n",
        "  for m_idx, m in enumerate(models):\n",
        "\n",
        "    for m_ in models[:m_idx]:\n",
        "      m_.eval()\n",
        "      # m.set_sample(False)\n",
        "\n",
        "    opt = torch.optim.SGD(m.parameters(), lr=lr, momentum=0.9, weight_decay=weight_decay, nesterov=True)\n",
        "    scheduler = torch.optim.lr_scheduler.CyclicLR(opt, 0, lr, step_size_up=(len(train_dl)*max_epoch)//2, mode='triangular', cycle_momentum=False)\n",
        "\n",
        "    perturb_sampler = dl_to_sampler(perturb_dl)\n",
        "\n",
        "    for epoch in range(max_epoch):\n",
        "      for itr, (x, y) in enumerate(train_dl):\n",
        "        (x_tilde,  _) = perturb_sampler()\n",
        "        erm_loss = F.cross_entropy(m(x), y)\n",
        "\n",
        "        if use_diversity_reg and m_idx != 0:\n",
        "          adv_loss = []\n",
        "\n",
        "          p_2 = torch.softmax(m(x_tilde), dim=1)\n",
        "          p_2_1, max_idx = p_2.max(dim=1)\n",
        "          p_2_0 = 1. - p_2_1\n",
        "\n",
        "          with torch.no_grad():\n",
        "            p_1_s = [torch.softmax(m_(x_tilde), dim=1) for m_ in models[:m_idx]]\n",
        "            p_1_1_s = [p_1[torch.arange(len(p_1)), max_idx] for p_1 in p_1_s]\n",
        "            p_1_0_s = [1. - p_1_1 for p_1_1 in p_1_1_s]\n",
        "\n",
        "          for i in range(len(p_1_s)):\n",
        "            al = (- torch.log(p_1_1_s[i] * p_2_0 + p_2_1 * p_1_0_s[i] +  1e-7)).mean()\n",
        "            adv_loss.append(al)\n",
        "        else:\n",
        "          adv_loss = [torch.tensor([0]).to(DEVICE)]\n",
        "\n",
        "        adv_loss = sum(adv_loss)/len(adv_loss)\n",
        "\n",
        "        if use_diversity_reg and m_idx != 0:\n",
        "          loss = erm_loss + alpha * adv_loss\n",
        "        else:\n",
        "          loss = erm_loss\n",
        "\n",
        "        opt.zero_grad()\n",
        "        loss.backward()\n",
        "        opt.step()\n",
        "        scheduler.step()\n",
        "\n",
        "        if (itr + epoch * len(train_dl)) % 200 == 0:\n",
        "          itr_ = itr + epoch * len(train_dl)\n",
        "          print_str = f\"[m{m_idx+1}] {epoch}/{itr_} [train] loss: {erm_loss.item():.2f} adv-loss: {adv_loss.item():.2f} \"\n",
        "          stats[f\"m{m_idx+1}\"][\"loss\"].append((itr_, erm_loss.item()))\n",
        "          stats[f\"m{m_idx+1}\"][\"adv-loss\"].append((itr_, adv_loss.item()))\n",
        "          acc = get_acc(m, valid_dl)\n",
        "          stats[f\"m{m_idx+1}\"][\"acc\"].append((itr_, acc))\n",
        "          print_str += f\" acc: {acc:.2f} \"\n",
        "          if itr_ != 0 and scheduler is not None:\n",
        "            print_str += f\"[lr] {scheduler.get_last_lr()[0]:.5f} \"\n",
        "          print(print_str)\n",
        "\n",
        "        itr += 1\n",
        "\n",
        "  stats['all_models'] = models\n",
        "\n",
        "  return stats"
      ]
    },
    {
      "attachments": {},
      "cell_type": "markdown",
      "metadata": {
        "id": "57jMpcwaFSu-"
      },
      "source": [
        "# Train with D-BAT"
      ]
    },
    {
      "cell_type": "code",
      "execution_count": 11,
      "metadata": {
        "colab": {
          "base_uri": "https://localhost:8080/"
        },
        "id": "YJmkmGX3An9P",
        "outputId": "2ee4a555-2c5f-4670-98c1-9b79eaf144f0"
      },
      "outputs": [
        {
          "name": "stdout",
          "output_type": "stream",
          "text": [
            "-------NUMBER OF CLASSES = 2--------\n",
            "\n"
          ]
        },
        {
          "name": "stderr",
          "output_type": "stream",
          "text": [
            "/users/ug21/divsinghal/.local/lib/python3.9/site-packages/torchvision/models/_utils.py:208: UserWarning: The parameter 'pretrained' is deprecated since 0.13 and will be removed in 0.15, please use 'weights' instead.\n",
            "  warnings.warn(\n",
            "/users/ug21/divsinghal/.local/lib/python3.9/site-packages/torchvision/models/_utils.py:223: UserWarning: Arguments other than a weight enum or `None` for 'weights' are deprecated since 0.13 and will be removed in 0.15. The current behavior is equivalent to passing `weights=ResNet18_Weights.IMAGENET1K_V1`. You can also use `weights=ResNet18_Weights.DEFAULT` to get the most up-to-date weights.\n",
            "  warnings.warn(msg)\n"
          ]
        },
        {
          "name": "stdout",
          "output_type": "stream",
          "text": [
            "[m1] 0/0 [train] loss: 0.72 adv-loss: 0.00  acc: 0.39 \n",
            "[m1] 50/200 [train] loss: 0.00 adv-loss: 0.00  acc: 0.98 [lr] 0.09950 \n",
            "[m2] 0/0 [train] loss: 0.86 adv-loss: 0.84  acc: 0.57 \n",
            "[m2] 50/200 [train] loss: 0.22 adv-loss: 2.05  acc: 0.81 [lr] 0.09950 \n",
            "[m3] 0/0 [train] loss: 0.66 adv-loss: 0.77  acc: 0.37 \n",
            "[m3] 50/200 [train] loss: 0.00 adv-loss: 2.56  acc: 0.96 [lr] 0.09950 \n",
            "[m4] 0/0 [train] loss: 0.99 adv-loss: 1.15  acc: 0.55 \n",
            "[m4] 50/200 [train] loss: 0.00 adv-loss: 0.77  acc: 0.89 [lr] 0.09950 \n",
            "-------NUMBER OF CLASSES = 5--------\n",
            "\n",
            "[m1] 0/0 [train] loss: 1.83 adv-loss: 0.00  acc: 0.16 \n",
            "[m1] 22/200 [train] loss: 0.03 adv-loss: 0.00  acc: 0.77 [lr] 0.04467 \n",
            "[m1] 44/400 [train] loss: 0.06 adv-loss: 0.00  acc: 0.78 [lr] 0.08911 \n",
            "[m1] 66/600 [train] loss: 0.00 adv-loss: 0.00  acc: 0.84 [lr] 0.06644 \n",
            "[m1] 88/800 [train] loss: 0.00 adv-loss: 0.00  acc: 0.85 [lr] 0.02200 \n",
            "[m2] 0/0 [train] loss: 1.75 adv-loss: 0.85  acc: 0.22 \n",
            "[m2] 22/200 [train] loss: 0.05 adv-loss: 2.77  acc: 0.81 [lr] 0.04467 \n",
            "[m2] 44/400 [train] loss: 0.09 adv-loss: 2.19  acc: 0.79 [lr] 0.08911 \n",
            "[m2] 66/600 [train] loss: 0.00 adv-loss: 1.95  acc: 0.83 [lr] 0.06644 \n",
            "[m2] 88/800 [train] loss: 0.00 adv-loss: 0.95  acc: 0.80 [lr] 0.02200 \n",
            "[m3] 0/0 [train] loss: 1.88 adv-loss: 0.86  acc: 0.18 \n",
            "[m3] 22/200 [train] loss: 0.14 adv-loss: 2.21  acc: 0.80 [lr] 0.04467 \n",
            "[m3] 44/400 [train] loss: 0.03 adv-loss: 2.47  acc: 0.78 [lr] 0.08911 \n",
            "[m3] 66/600 [train] loss: 0.01 adv-loss: 2.21  acc: 0.83 [lr] 0.06644 \n",
            "[m3] 88/800 [train] loss: 0.00 adv-loss: 1.16  acc: 0.81 [lr] 0.02200 \n",
            "[m4] 0/0 [train] loss: 1.94 adv-loss: 0.83  acc: 0.20 \n",
            "[m4] 22/200 [train] loss: 0.00 adv-loss: 0.89  acc: 0.76 [lr] 0.04467 \n",
            "[m4] 44/400 [train] loss: 0.01 adv-loss: 2.46  acc: 0.81 [lr] 0.08911 \n",
            "[m4] 66/600 [train] loss: 0.00 adv-loss: 1.83  acc: 0.85 [lr] 0.06644 \n",
            "[m4] 88/800 [train] loss: 0.00 adv-loss: 1.26  acc: 0.85 [lr] 0.02200 \n",
            "-------NUMBER OF CLASSES = 10--------\n",
            "\n",
            "[m1] 0/0 [train] loss: 2.61 adv-loss: 0.00  acc: 0.07 \n",
            "[m1] 11/200 [train] loss: 0.45 adv-loss: 0.00  acc: 0.53 [lr] 0.02233 \n",
            "[m1] 22/400 [train] loss: 0.10 adv-loss: 0.00  acc: 0.63 [lr] 0.04456 \n",
            "[m1] 33/600 [train] loss: 0.05 adv-loss: 0.00  acc: 0.74 [lr] 0.06678 \n",
            "[m1] 44/800 [train] loss: 0.10 adv-loss: 0.00  acc: 0.73 [lr] 0.08900 \n",
            "[m1] 55/1000 [train] loss: 0.04 adv-loss: 0.00  acc: 0.77 [lr] 0.08878 \n",
            "[m1] 66/1200 [train] loss: 0.00 adv-loss: 0.00  acc: 0.80 [lr] 0.06656 \n",
            "[m1] 77/1400 [train] loss: 0.00 adv-loss: 0.00  acc: 0.81 [lr] 0.04433 \n",
            "[m1] 88/1600 [train] loss: 0.00 adv-loss: 0.00  acc: 0.81 [lr] 0.02211 \n",
            "[m2] 0/0 [train] loss: 2.63 adv-loss: 1.27  acc: 0.09 \n",
            "[m2] 11/200 [train] loss: 0.35 adv-loss: 1.32  acc: 0.70 [lr] 0.02233 \n",
            "[m2] 22/400 [train] loss: 0.06 adv-loss: 1.43  acc: 0.80 [lr] 0.04456 \n",
            "[m2] 33/600 [train] loss: 0.11 adv-loss: 2.03  acc: 0.71 [lr] 0.06678 \n",
            "[m2] 44/800 [train] loss: 0.06 adv-loss: 1.71  acc: 0.78 [lr] 0.08900 \n",
            "[m2] 55/1000 [train] loss: 0.05 adv-loss: 1.54  acc: 0.71 [lr] 0.08878 \n",
            "[m2] 66/1200 [train] loss: 0.01 adv-loss: 1.46  acc: 0.79 [lr] 0.06656 \n",
            "[m2] 77/1400 [train] loss: 0.00 adv-loss: 0.98  acc: 0.79 [lr] 0.04433 \n",
            "[m2] 88/1600 [train] loss: 0.00 adv-loss: 0.70  acc: 0.79 [lr] 0.02211 \n",
            "[m3] 0/0 [train] loss: 2.43 adv-loss: 1.24  acc: 0.10 \n",
            "[m3] 11/200 [train] loss: 0.22 adv-loss: 1.30  acc: 0.75 [lr] 0.02233 \n",
            "[m3] 22/400 [train] loss: 0.03 adv-loss: 1.54  acc: 0.72 [lr] 0.04456 \n",
            "[m3] 33/600 [train] loss: 0.11 adv-loss: 1.56  acc: 0.75 [lr] 0.06678 \n",
            "[m3] 44/800 [train] loss: 0.04 adv-loss: 1.50  acc: 0.68 [lr] 0.08900 \n",
            "[m3] 55/1000 [train] loss: 0.04 adv-loss: 1.74  acc: 0.79 [lr] 0.08878 \n",
            "[m3] 66/1200 [train] loss: 0.00 adv-loss: 1.64  acc: 0.78 [lr] 0.06656 \n",
            "[m3] 77/1400 [train] loss: 0.00 adv-loss: 1.09  acc: 0.79 [lr] 0.04433 \n",
            "[m3] 88/1600 [train] loss: 0.00 adv-loss: 1.05  acc: 0.78 [lr] 0.02211 \n",
            "[m4] 0/0 [train] loss: 2.65 adv-loss: 1.25  acc: 0.07 \n",
            "[m4] 11/200 [train] loss: 0.44 adv-loss: 1.07  acc: 0.49 [lr] 0.02233 \n",
            "[m4] 22/400 [train] loss: 0.08 adv-loss: 1.56  acc: 0.73 [lr] 0.04456 \n",
            "[m4] 33/600 [train] loss: 0.09 adv-loss: 1.52  acc: 0.65 [lr] 0.06678 \n",
            "[m4] 44/800 [train] loss: 0.07 adv-loss: 1.52  acc: 0.75 [lr] 0.08900 \n",
            "[m4] 55/1000 [train] loss: 0.06 adv-loss: 1.34  acc: 0.80 [lr] 0.08878 \n",
            "[m4] 66/1200 [train] loss: 0.00 adv-loss: 1.63  acc: 0.80 [lr] 0.06656 \n",
            "[m4] 77/1400 [train] loss: 0.00 adv-loss: 1.50  acc: 0.80 [lr] 0.04433 \n",
            "[m4] 88/1600 [train] loss: 0.00 adv-loss: 1.27  acc: 0.79 [lr] 0.02211 \n",
            "-------NUMBER OF CLASSES = 20--------\n",
            "\n",
            "[m1] 0/0 [train] loss: 3.20 adv-loss: 0.00  acc: 0.04 \n",
            "[m1] 5/200 [train] loss: 0.22 adv-loss: 0.00  acc: 0.63 [lr] 0.01117 \n",
            "[m1] 11/400 [train] loss: 0.21 adv-loss: 0.00  acc: 0.57 [lr] 0.02228 \n",
            "[m1] 16/600 [train] loss: 0.19 adv-loss: 0.00  acc: 0.62 [lr] 0.03339 \n",
            "[m1] 22/800 [train] loss: 0.06 adv-loss: 0.00  acc: 0.63 [lr] 0.04450 \n",
            "[m1] 27/1000 [train] loss: 0.13 adv-loss: 0.00  acc: 0.64 [lr] 0.05561 \n",
            "[m1] 33/1200 [train] loss: 0.18 adv-loss: 0.00  acc: 0.62 [lr] 0.06672 \n",
            "[m1] 38/1400 [train] loss: 0.10 adv-loss: 0.00  acc: 0.56 [lr] 0.07783 \n",
            "[m1] 44/1600 [train] loss: 0.22 adv-loss: 0.00  acc: 0.57 [lr] 0.08894 \n",
            "[m1] 50/1800 [train] loss: 0.15 adv-loss: 0.00  acc: 0.59 [lr] 0.09994 \n",
            "[m1] 55/2000 [train] loss: 0.11 adv-loss: 0.00  acc: 0.62 [lr] 0.08883 \n",
            "[m1] 61/2200 [train] loss: 0.05 adv-loss: 0.00  acc: 0.64 [lr] 0.07772 \n",
            "[m1] 66/2400 [train] loss: 0.03 adv-loss: 0.00  acc: 0.65 [lr] 0.06661 \n",
            "[m1] 72/2600 [train] loss: 0.00 adv-loss: 0.00  acc: 0.69 [lr] 0.05550 \n",
            "[m1] 77/2800 [train] loss: 0.00 adv-loss: 0.00  acc: 0.69 [lr] 0.04439 \n",
            "[m1] 83/3000 [train] loss: 0.00 adv-loss: 0.00  acc: 0.69 [lr] 0.03328 \n",
            "[m1] 88/3200 [train] loss: 0.00 adv-loss: 0.00  acc: 0.71 [lr] 0.02217 \n",
            "[m1] 94/3400 [train] loss: 0.00 adv-loss: 0.00  acc: 0.71 [lr] 0.01106 \n",
            "[m2] 0/0 [train] loss: 3.40 adv-loss: 1.69  acc: 0.04 \n",
            "[m2] 5/200 [train] loss: 0.27 adv-loss: 1.02  acc: 0.64 [lr] 0.01117 \n",
            "[m2] 11/400 [train] loss: 0.41 adv-loss: 1.13  acc: 0.55 [lr] 0.02228 \n",
            "[m2] 16/600 [train] loss: 0.15 adv-loss: 1.32  acc: 0.67 [lr] 0.03339 \n",
            "[m2] 22/800 [train] loss: 0.23 adv-loss: 1.41  acc: 0.62 [lr] 0.04450 \n",
            "[m2] 27/1000 [train] loss: 0.15 adv-loss: 1.37  acc: 0.64 [lr] 0.05561 \n",
            "[m2] 33/1200 [train] loss: 0.26 adv-loss: 1.21  acc: 0.56 [lr] 0.06672 \n",
            "[m2] 38/1400 [train] loss: 0.22 adv-loss: 1.35  acc: 0.66 [lr] 0.07783 \n",
            "[m2] 44/1600 [train] loss: 0.18 adv-loss: 1.04  acc: 0.57 [lr] 0.08894 \n",
            "[m2] 50/1800 [train] loss: 0.16 adv-loss: 1.50  acc: 0.57 [lr] 0.09994 \n",
            "[m2] 55/2000 [train] loss: 0.06 adv-loss: 1.59  acc: 0.64 [lr] 0.08883 \n",
            "[m2] 61/2200 [train] loss: 0.06 adv-loss: 1.38  acc: 0.65 [lr] 0.07772 \n",
            "[m2] 66/2400 [train] loss: 0.00 adv-loss: 0.98  acc: 0.66 [lr] 0.06661 \n",
            "[m2] 72/2600 [train] loss: 0.04 adv-loss: 1.26  acc: 0.67 [lr] 0.05550 \n",
            "[m2] 77/2800 [train] loss: 0.00 adv-loss: 1.11  acc: 0.68 [lr] 0.04439 \n",
            "[m2] 83/3000 [train] loss: 0.00 adv-loss: 1.13  acc: 0.67 [lr] 0.03328 \n",
            "[m2] 88/3200 [train] loss: 0.00 adv-loss: 0.85  acc: 0.67 [lr] 0.02217 \n",
            "[m2] 94/3400 [train] loss: 0.00 adv-loss: 0.75  acc: 0.67 [lr] 0.01106 \n",
            "[m3] 0/0 [train] loss: 3.20 adv-loss: 1.79  acc: 0.03 \n",
            "[m3] 5/200 [train] loss: 0.22 adv-loss: 0.99  acc: 0.64 [lr] 0.01117 \n",
            "[m3] 11/400 [train] loss: 0.11 adv-loss: 1.02  acc: 0.62 [lr] 0.02228 \n",
            "[m3] 16/600 [train] loss: 0.27 adv-loss: 1.31  acc: 0.65 [lr] 0.03339 \n",
            "[m3] 22/800 [train] loss: 0.30 adv-loss: 1.31  acc: 0.61 [lr] 0.04450 \n",
            "[m3] 27/1000 [train] loss: 0.14 adv-loss: 1.33  acc: 0.65 [lr] 0.05561 \n",
            "[m3] 33/1200 [train] loss: 0.22 adv-loss: 1.13  acc: 0.57 [lr] 0.06672 \n",
            "[m3] 38/1400 [train] loss: 0.16 adv-loss: 1.48  acc: 0.64 [lr] 0.07783 \n",
            "[m3] 44/1600 [train] loss: 0.09 adv-loss: 1.11  acc: 0.63 [lr] 0.08894 \n",
            "[m3] 50/1800 [train] loss: 0.06 adv-loss: 1.28  acc: 0.45 [lr] 0.09994 \n",
            "[m3] 55/2000 [train] loss: 0.07 adv-loss: 1.29  acc: 0.63 [lr] 0.08883 \n",
            "[m3] 61/2200 [train] loss: 0.07 adv-loss: 1.28  acc: 0.61 [lr] 0.07772 \n",
            "[m3] 66/2400 [train] loss: 0.02 adv-loss: 1.44  acc: 0.67 [lr] 0.06661 \n",
            "[m3] 72/2600 [train] loss: 0.01 adv-loss: 1.07  acc: 0.64 [lr] 0.05550 \n",
            "[m3] 77/2800 [train] loss: 0.00 adv-loss: 1.17  acc: 0.68 [lr] 0.04439 \n",
            "[m3] 83/3000 [train] loss: 0.01 adv-loss: 1.15  acc: 0.64 [lr] 0.03328 \n",
            "[m3] 88/3200 [train] loss: 0.00 adv-loss: 0.92  acc: 0.70 [lr] 0.02217 \n",
            "[m3] 94/3400 [train] loss: 0.00 adv-loss: 1.16  acc: 0.68 [lr] 0.01106 \n",
            "[m4] 0/0 [train] loss: 3.42 adv-loss: 1.82  acc: 0.04 \n",
            "[m4] 5/200 [train] loss: 0.33 adv-loss: 1.01  acc: 0.61 [lr] 0.01117 \n",
            "[m4] 11/400 [train] loss: 0.34 adv-loss: 1.12  acc: 0.65 [lr] 0.02228 \n",
            "[m4] 16/600 [train] loss: 0.18 adv-loss: 1.16  acc: 0.65 [lr] 0.03339 \n",
            "[m4] 22/800 [train] loss: 0.27 adv-loss: 1.13  acc: 0.63 [lr] 0.04450 \n",
            "[m4] 27/1000 [train] loss: 0.20 adv-loss: 1.32  acc: 0.64 [lr] 0.05561 \n",
            "[m4] 33/1200 [train] loss: 0.06 adv-loss: 1.33  acc: 0.62 [lr] 0.06672 \n",
            "[m4] 38/1400 [train] loss: 0.14 adv-loss: 1.26  acc: 0.56 [lr] 0.07783 \n",
            "[m4] 44/1600 [train] loss: 0.18 adv-loss: 1.28  acc: 0.61 [lr] 0.08894 \n",
            "[m4] 50/1800 [train] loss: 0.11 adv-loss: 1.08  acc: 0.45 [lr] 0.09994 \n",
            "[m4] 55/2000 [train] loss: 0.05 adv-loss: 1.23  acc: 0.66 [lr] 0.08883 \n",
            "[m4] 61/2200 [train] loss: 0.04 adv-loss: 1.29  acc: 0.66 [lr] 0.07772 \n",
            "[m4] 66/2400 [train] loss: 0.02 adv-loss: 1.17  acc: 0.67 [lr] 0.06661 \n",
            "[m4] 72/2600 [train] loss: 0.00 adv-loss: 1.31  acc: 0.68 [lr] 0.05550 \n",
            "[m4] 77/2800 [train] loss: 0.00 adv-loss: 1.22  acc: 0.68 [lr] 0.04439 \n",
            "[m4] 83/3000 [train] loss: 0.00 adv-loss: 1.10  acc: 0.67 [lr] 0.03328 \n",
            "[m4] 88/3200 [train] loss: 0.00 adv-loss: 1.14  acc: 0.67 [lr] 0.02217 \n",
            "[m4] 94/3400 [train] loss: 0.00 adv-loss: 1.04  acc: 0.66 [lr] 0.01106 \n",
            "-------NUMBER OF CLASSES = 50--------\n",
            "\n",
            "[m1] 0/0 [train] loss: 4.23 adv-loss: 0.00  acc: 0.03 \n",
            "[m1] 2/200 [train] loss: 1.39 adv-loss: 0.00  acc: 0.50 [lr] 0.00452 \n",
            "[m1] 4/400 [train] loss: 0.87 adv-loss: 0.00  acc: 0.54 [lr] 0.00901 \n",
            "[m1] 6/600 [train] loss: 0.65 adv-loss: 0.00  acc: 0.56 [lr] 0.01351 \n",
            "[m1] 8/800 [train] loss: 1.24 adv-loss: 0.00  acc: 0.31 [lr] 0.01800 \n",
            "[m1] 11/1000 [train] loss: 0.75 adv-loss: 0.00  acc: 0.46 [lr] 0.02249 \n",
            "[m1] 13/1200 [train] loss: 0.54 adv-loss: 0.00  acc: 0.57 [lr] 0.02699 \n",
            "[m1] 15/1400 [train] loss: 0.45 adv-loss: 0.00  acc: 0.57 [lr] 0.03148 \n",
            "[m1] 17/1600 [train] loss: 0.27 adv-loss: 0.00  acc: 0.53 [lr] 0.03598 \n",
            "[m1] 20/1800 [train] loss: 0.37 adv-loss: 0.00  acc: 0.54 [lr] 0.04047 \n",
            "[m1] 22/2000 [train] loss: 0.35 adv-loss: 0.00  acc: 0.52 [lr] 0.04497 \n",
            "[m1] 24/2200 [train] loss: 0.16 adv-loss: 0.00  acc: 0.53 [lr] 0.04946 \n",
            "[m1] 26/2400 [train] loss: 0.36 adv-loss: 0.00  acc: 0.51 [lr] 0.05396 \n",
            "[m1] 29/2600 [train] loss: 0.66 adv-loss: 0.00  acc: 0.46 [lr] 0.05845 \n",
            "[m1] 31/2800 [train] loss: 0.26 adv-loss: 0.00  acc: 0.51 [lr] 0.06294 \n",
            "[m1] 33/3000 [train] loss: 0.34 adv-loss: 0.00  acc: 0.54 [lr] 0.06744 \n",
            "[m1] 35/3200 [train] loss: 0.27 adv-loss: 0.00  acc: 0.50 [lr] 0.07193 \n",
            "[m1] 38/3400 [train] loss: 0.52 adv-loss: 0.00  acc: 0.46 [lr] 0.07643 \n",
            "[m1] 40/3600 [train] loss: 0.35 adv-loss: 0.00  acc: 0.47 [lr] 0.08092 \n",
            "[m1] 42/3800 [train] loss: 0.20 adv-loss: 0.00  acc: 0.52 [lr] 0.08542 \n",
            "[m1] 44/4000 [train] loss: 0.24 adv-loss: 0.00  acc: 0.48 [lr] 0.08991 \n",
            "[m1] 47/4200 [train] loss: 0.30 adv-loss: 0.00  acc: 0.47 [lr] 0.09440 \n",
            "[m1] 49/4400 [train] loss: 0.28 adv-loss: 0.00  acc: 0.48 [lr] 0.09890 \n",
            "[m1] 51/4600 [train] loss: 0.18 adv-loss: 0.00  acc: 0.48 [lr] 0.09661 \n",
            "[m1] 53/4800 [train] loss: 0.29 adv-loss: 0.00  acc: 0.53 [lr] 0.09211 \n",
            "[m1] 56/5000 [train] loss: 0.10 adv-loss: 0.00  acc: 0.54 [lr] 0.08762 \n",
            "[m1] 58/5200 [train] loss: 0.08 adv-loss: 0.00  acc: 0.49 [lr] 0.08312 \n",
            "[m1] 60/5400 [train] loss: 0.10 adv-loss: 0.00  acc: 0.56 [lr] 0.07863 \n",
            "[m1] 62/5600 [train] loss: 0.11 adv-loss: 0.00  acc: 0.57 [lr] 0.07413 \n",
            "[m1] 65/5800 [train] loss: 0.11 adv-loss: 0.00  acc: 0.48 [lr] 0.06964 \n",
            "[m1] 67/6000 [train] loss: 0.12 adv-loss: 0.00  acc: 0.51 [lr] 0.06515 \n",
            "[m1] 69/6200 [train] loss: 0.08 adv-loss: 0.00  acc: 0.55 [lr] 0.06065 \n",
            "[m1] 71/6400 [train] loss: 0.05 adv-loss: 0.00  acc: 0.57 [lr] 0.05616 \n",
            "[m1] 74/6600 [train] loss: 0.07 adv-loss: 0.00  acc: 0.53 [lr] 0.05166 \n",
            "[m1] 76/6800 [train] loss: 0.01 adv-loss: 0.00  acc: 0.59 [lr] 0.04717 \n",
            "[m1] 78/7000 [train] loss: 0.00 adv-loss: 0.00  acc: 0.60 [lr] 0.04267 \n",
            "[m1] 80/7200 [train] loss: 0.00 adv-loss: 0.00  acc: 0.60 [lr] 0.03818 \n",
            "[m1] 83/7400 [train] loss: 0.00 adv-loss: 0.00  acc: 0.61 [lr] 0.03369 \n",
            "[m1] 85/7600 [train] loss: 0.00 adv-loss: 0.00  acc: 0.62 [lr] 0.02919 \n",
            "[m1] 87/7800 [train] loss: 0.00 adv-loss: 0.00  acc: 0.61 [lr] 0.02470 \n",
            "[m1] 89/8000 [train] loss: 0.00 adv-loss: 0.00  acc: 0.61 [lr] 0.02020 \n",
            "[m1] 92/8200 [train] loss: 0.00 adv-loss: 0.00  acc: 0.61 [lr] 0.01571 \n",
            "[m1] 94/8400 [train] loss: 0.00 adv-loss: 0.00  acc: 0.61 [lr] 0.01121 \n",
            "[m1] 96/8600 [train] loss: 0.00 adv-loss: 0.00  acc: 0.61 [lr] 0.00672 \n",
            "[m1] 98/8800 [train] loss: 0.00 adv-loss: 0.00  acc: 0.61 [lr] 0.00222 \n",
            "[m2] 0/0 [train] loss: 4.22 adv-loss: 2.38  acc: 0.02 \n",
            "[m2] 2/200 [train] loss: 1.49 adv-loss: 1.10  acc: 0.50 [lr] 0.00452 \n",
            "[m2] 4/400 [train] loss: 0.87 adv-loss: 0.90  acc: 0.56 [lr] 0.00901 \n",
            "[m2] 6/600 [train] loss: 0.71 adv-loss: 0.95  acc: 0.56 [lr] 0.01351 \n",
            "[m2] 8/800 [train] loss: 0.58 adv-loss: 0.95  acc: 0.34 [lr] 0.01800 \n",
            "[m2] 11/1000 [train] loss: 0.56 adv-loss: 0.94  acc: 0.51 [lr] 0.02249 \n",
            "[m2] 13/1200 [train] loss: 0.52 adv-loss: 0.91  acc: 0.52 [lr] 0.02699 \n",
            "[m2] 15/1400 [train] loss: 0.48 adv-loss: 0.91  acc: 0.55 [lr] 0.03148 \n",
            "[m2] 17/1600 [train] loss: 0.58 adv-loss: 0.92  acc: 0.54 [lr] 0.03598 \n",
            "[m2] 20/1800 [train] loss: 0.42 adv-loss: 0.86  acc: 0.51 [lr] 0.04047 \n",
            "[m2] 22/2000 [train] loss: 0.44 adv-loss: 0.90  acc: 0.53 [lr] 0.04497 \n",
            "[m2] 24/2200 [train] loss: 0.34 adv-loss: 0.99  acc: 0.56 [lr] 0.04946 \n",
            "[m2] 26/2400 [train] loss: 0.37 adv-loss: 1.07  acc: 0.53 [lr] 0.05396 \n",
            "[m2] 29/2600 [train] loss: 0.31 adv-loss: 1.01  acc: 0.51 [lr] 0.05845 \n",
            "[m2] 31/2800 [train] loss: 0.31 adv-loss: 1.13  acc: 0.54 [lr] 0.06294 \n",
            "[m2] 33/3000 [train] loss: 0.12 adv-loss: 1.06  acc: 0.55 [lr] 0.06744 \n",
            "[m2] 35/3200 [train] loss: 0.24 adv-loss: 1.03  acc: 0.54 [lr] 0.07193 \n",
            "[m2] 38/3400 [train] loss: 0.35 adv-loss: 0.96  acc: 0.51 [lr] 0.07643 \n",
            "[m2] 40/3600 [train] loss: 0.47 adv-loss: 0.83  acc: 0.46 [lr] 0.08092 \n",
            "[m2] 42/3800 [train] loss: 0.27 adv-loss: 0.98  acc: 0.55 [lr] 0.08542 \n",
            "[m2] 44/4000 [train] loss: 0.34 adv-loss: 0.96  acc: 0.46 [lr] 0.08991 \n",
            "[m2] 47/4200 [train] loss: 0.24 adv-loss: 0.85  acc: 0.52 [lr] 0.09440 \n",
            "[m2] 49/4400 [train] loss: 0.37 adv-loss: 0.95  acc: 0.50 [lr] 0.09890 \n",
            "[m2] 51/4600 [train] loss: 0.15 adv-loss: 0.89  acc: 0.54 [lr] 0.09661 \n",
            "[m2] 53/4800 [train] loss: 0.15 adv-loss: 1.09  acc: 0.54 [lr] 0.09211 \n",
            "[m2] 56/5000 [train] loss: 0.12 adv-loss: 1.14  acc: 0.55 [lr] 0.08762 \n",
            "[m2] 58/5200 [train] loss: 0.06 adv-loss: 0.88  acc: 0.57 [lr] 0.08312 \n",
            "[m2] 60/5400 [train] loss: 0.10 adv-loss: 1.03  acc: 0.48 [lr] 0.07863 \n",
            "[m2] 62/5600 [train] loss: 0.15 adv-loss: 1.00  acc: 0.53 [lr] 0.07413 \n",
            "[m2] 65/5800 [train] loss: 0.20 adv-loss: 1.01  acc: 0.52 [lr] 0.06964 \n",
            "[m2] 67/6000 [train] loss: 0.08 adv-loss: 1.09  acc: 0.55 [lr] 0.06515 \n",
            "[m2] 69/6200 [train] loss: 0.00 adv-loss: 0.85  acc: 0.58 [lr] 0.06065 \n",
            "[m2] 71/6400 [train] loss: 0.00 adv-loss: 1.10  acc: 0.59 [lr] 0.05616 \n",
            "[m2] 74/6600 [train] loss: 0.01 adv-loss: 0.84  acc: 0.57 [lr] 0.05166 \n",
            "[m2] 76/6800 [train] loss: 0.00 adv-loss: 1.03  acc: 0.59 [lr] 0.04717 \n",
            "[m2] 78/7000 [train] loss: 0.00 adv-loss: 0.83  acc: 0.60 [lr] 0.04267 \n",
            "[m2] 80/7200 [train] loss: 0.01 adv-loss: 0.98  acc: 0.58 [lr] 0.03818 \n",
            "[m2] 83/7400 [train] loss: 0.01 adv-loss: 0.96  acc: 0.59 [lr] 0.03369 \n",
            "[m2] 85/7600 [train] loss: 0.01 adv-loss: 0.89  acc: 0.59 [lr] 0.02919 \n",
            "[m2] 87/7800 [train] loss: 0.00 adv-loss: 0.90  acc: 0.60 [lr] 0.02470 \n",
            "[m2] 89/8000 [train] loss: 0.01 adv-loss: 0.81  acc: 0.58 [lr] 0.02020 \n",
            "[m2] 92/8200 [train] loss: 0.03 adv-loss: 0.84  acc: 0.56 [lr] 0.01571 \n",
            "[m2] 94/8400 [train] loss: 0.00 adv-loss: 0.91  acc: 0.60 [lr] 0.01121 \n",
            "[m2] 96/8600 [train] loss: 0.00 adv-loss: 0.73  acc: 0.60 [lr] 0.00672 \n",
            "[m2] 98/8800 [train] loss: 0.00 adv-loss: 0.79  acc: 0.60 [lr] 0.00222 \n",
            "[m3] 0/0 [train] loss: 4.32 adv-loss: 2.36  acc: 0.02 \n",
            "[m3] 2/200 [train] loss: 1.56 adv-loss: 1.03  acc: 0.50 [lr] 0.00452 \n",
            "[m3] 4/400 [train] loss: 0.75 adv-loss: 0.94  acc: 0.55 [lr] 0.00901 \n",
            "[m3] 6/600 [train] loss: 0.83 adv-loss: 0.83  acc: 0.54 [lr] 0.01351 \n",
            "[m3] 8/800 [train] loss: 0.86 adv-loss: 0.90  acc: 0.42 [lr] 0.01800 \n",
            "[m3] 11/1000 [train] loss: 0.60 adv-loss: 0.91  acc: 0.54 [lr] 0.02249 \n",
            "[m3] 13/1200 [train] loss: 0.40 adv-loss: 0.80  acc: 0.55 [lr] 0.02699 \n",
            "[m3] 15/1400 [train] loss: 0.35 adv-loss: 0.83  acc: 0.55 [lr] 0.03148 \n",
            "[m3] 17/1600 [train] loss: 0.52 adv-loss: 1.00  acc: 0.57 [lr] 0.03598 \n",
            "[m3] 20/1800 [train] loss: 0.16 adv-loss: 0.87  acc: 0.52 [lr] 0.04047 \n",
            "[m3] 22/2000 [train] loss: 0.24 adv-loss: 0.81  acc: 0.54 [lr] 0.04497 \n",
            "[m3] 24/2200 [train] loss: 0.46 adv-loss: 0.95  acc: 0.56 [lr] 0.04946 \n",
            "[m3] 26/2400 [train] loss: 0.46 adv-loss: 0.94  acc: 0.56 [lr] 0.05396 \n",
            "[m3] 29/2600 [train] loss: 0.39 adv-loss: 0.86  acc: 0.49 [lr] 0.05845 \n",
            "[m3] 31/2800 [train] loss: 0.38 adv-loss: 0.88  acc: 0.54 [lr] 0.06294 \n",
            "[m3] 33/3000 [train] loss: 0.21 adv-loss: 0.95  acc: 0.54 [lr] 0.06744 \n",
            "[m3] 35/3200 [train] loss: 0.24 adv-loss: 0.99  acc: 0.55 [lr] 0.07193 \n",
            "[m3] 38/3400 [train] loss: 0.73 adv-loss: 0.86  acc: 0.43 [lr] 0.07643 \n",
            "[m3] 40/3600 [train] loss: 0.23 adv-loss: 0.83  acc: 0.57 [lr] 0.08092 \n",
            "[m3] 42/3800 [train] loss: 0.29 adv-loss: 0.88  acc: 0.54 [lr] 0.08542 \n",
            "[m3] 44/4000 [train] loss: 0.27 adv-loss: 0.95  acc: 0.54 [lr] 0.08991 \n",
            "[m3] 47/4200 [train] loss: 0.25 adv-loss: 0.99  acc: 0.51 [lr] 0.09440 \n",
            "[m3] 49/4400 [train] loss: 0.21 adv-loss: 0.97  acc: 0.45 [lr] 0.09890 \n",
            "[m3] 51/4600 [train] loss: 0.30 adv-loss: 0.99  acc: 0.53 [lr] 0.09661 \n",
            "[m3] 53/4800 [train] loss: 0.21 adv-loss: 0.90  acc: 0.51 [lr] 0.09211 \n",
            "[m3] 56/5000 [train] loss: 0.18 adv-loss: 0.94  acc: 0.52 [lr] 0.08762 \n",
            "[m3] 58/5200 [train] loss: 0.06 adv-loss: 0.91  acc: 0.56 [lr] 0.08312 \n",
            "[m3] 60/5400 [train] loss: 0.26 adv-loss: 0.89  acc: 0.53 [lr] 0.07863 \n",
            "[m3] 62/5600 [train] loss: 0.06 adv-loss: 0.91  acc: 0.55 [lr] 0.07413 \n",
            "[m3] 65/5800 [train] loss: 0.24 adv-loss: 0.83  acc: 0.51 [lr] 0.06964 \n",
            "[m3] 67/6000 [train] loss: 0.12 adv-loss: 1.03  acc: 0.55 [lr] 0.06515 \n",
            "[m3] 69/6200 [train] loss: 0.03 adv-loss: 1.04  acc: 0.56 [lr] 0.06065 \n",
            "[m3] 71/6400 [train] loss: 0.07 adv-loss: 1.06  acc: 0.56 [lr] 0.05616 \n",
            "[m3] 74/6600 [train] loss: 0.03 adv-loss: 0.89  acc: 0.57 [lr] 0.05166 \n",
            "[m3] 76/6800 [train] loss: 0.01 adv-loss: 0.83  acc: 0.58 [lr] 0.04717 \n",
            "[m3] 78/7000 [train] loss: 0.00 adv-loss: 0.97  acc: 0.59 [lr] 0.04267 \n",
            "[m3] 80/7200 [train] loss: 0.00 adv-loss: 0.93  acc: 0.59 [lr] 0.03818 \n",
            "[m3] 83/7400 [train] loss: 0.00 adv-loss: 1.14  acc: 0.58 [lr] 0.03369 \n",
            "[m3] 85/7600 [train] loss: 0.00 adv-loss: 0.94  acc: 0.59 [lr] 0.02919 \n",
            "[m3] 87/7800 [train] loss: 0.00 adv-loss: 0.95  acc: 0.58 [lr] 0.02470 \n",
            "[m3] 89/8000 [train] loss: 0.00 adv-loss: 0.81  acc: 0.59 [lr] 0.02020 \n",
            "[m3] 92/8200 [train] loss: 0.03 adv-loss: 0.79  acc: 0.56 [lr] 0.01571 \n",
            "[m3] 94/8400 [train] loss: 0.00 adv-loss: 0.83  acc: 0.60 [lr] 0.01121 \n",
            "[m3] 96/8600 [train] loss: 0.00 adv-loss: 0.89  acc: 0.60 [lr] 0.00672 \n",
            "[m3] 98/8800 [train] loss: 0.00 adv-loss: 0.84  acc: 0.60 [lr] 0.00222 \n",
            "[m4] 0/0 [train] loss: 4.32 adv-loss: 2.24  acc: 0.02 \n",
            "[m4] 2/200 [train] loss: 1.33 adv-loss: 0.99  acc: 0.50 [lr] 0.00452 \n",
            "[m4] 4/400 [train] loss: 0.63 adv-loss: 0.88  acc: 0.54 [lr] 0.00901 \n",
            "[m4] 6/600 [train] loss: 0.69 adv-loss: 0.89  acc: 0.56 [lr] 0.01351 \n",
            "[m4] 8/800 [train] loss: 1.12 adv-loss: 0.83  acc: 0.45 [lr] 0.01800 \n",
            "[m4] 11/1000 [train] loss: 0.55 adv-loss: 0.86  acc: 0.51 [lr] 0.02249 \n",
            "[m4] 13/1200 [train] loss: 0.54 adv-loss: 0.95  acc: 0.55 [lr] 0.02699 \n",
            "[m4] 15/1400 [train] loss: 0.40 adv-loss: 0.91  acc: 0.53 [lr] 0.03148 \n",
            "[m4] 17/1600 [train] loss: 0.36 adv-loss: 0.94  acc: 0.55 [lr] 0.03598 \n",
            "[m4] 20/1800 [train] loss: 0.26 adv-loss: 0.98  acc: 0.55 [lr] 0.04047 \n",
            "[m4] 22/2000 [train] loss: 0.38 adv-loss: 0.85  acc: 0.50 [lr] 0.04497 \n",
            "[m4] 24/2200 [train] loss: 0.43 adv-loss: 0.99  acc: 0.53 [lr] 0.04946 \n",
            "[m4] 26/2400 [train] loss: 0.37 adv-loss: 0.99  acc: 0.54 [lr] 0.05396 \n",
            "[m4] 29/2600 [train] loss: 0.66 adv-loss: 0.85  acc: 0.51 [lr] 0.05845 \n",
            "[m4] 31/2800 [train] loss: 0.32 adv-loss: 1.02  acc: 0.55 [lr] 0.06294 \n",
            "[m4] 33/3000 [train] loss: 0.41 adv-loss: 0.97  acc: 0.54 [lr] 0.06744 \n",
            "[m4] 35/3200 [train] loss: 0.27 adv-loss: 0.88  acc: 0.55 [lr] 0.07193 \n",
            "[m4] 38/3400 [train] loss: 0.32 adv-loss: 0.81  acc: 0.50 [lr] 0.07643 \n",
            "[m4] 40/3600 [train] loss: 0.11 adv-loss: 0.92  acc: 0.54 [lr] 0.08092 \n",
            "[m4] 42/3800 [train] loss: 0.38 adv-loss: 0.99  acc: 0.50 [lr] 0.08542 \n",
            "[m4] 44/4000 [train] loss: 0.37 adv-loss: 0.96  acc: 0.52 [lr] 0.08991 \n",
            "[m4] 47/4200 [train] loss: 0.39 adv-loss: 0.92  acc: 0.50 [lr] 0.09440 \n",
            "[m4] 49/4400 [train] loss: 0.24 adv-loss: 1.02  acc: 0.52 [lr] 0.09890 \n",
            "[m4] 51/4600 [train] loss: 0.29 adv-loss: 0.97  acc: 0.52 [lr] 0.09661 \n",
            "[m4] 53/4800 [train] loss: 0.15 adv-loss: 0.96  acc: 0.55 [lr] 0.09211 \n",
            "[m4] 56/5000 [train] loss: 0.11 adv-loss: 0.94  acc: 0.53 [lr] 0.08762 \n",
            "[m4] 58/5200 [train] loss: 0.13 adv-loss: 0.97  acc: 0.55 [lr] 0.08312 \n",
            "[m4] 60/5400 [train] loss: 0.09 adv-loss: 0.93  acc: 0.55 [lr] 0.07863 \n",
            "[m4] 62/5600 [train] loss: 0.21 adv-loss: 0.92  acc: 0.49 [lr] 0.07413 \n",
            "[m4] 65/5800 [train] loss: 0.34 adv-loss: 0.86  acc: 0.50 [lr] 0.06964 \n",
            "[m4] 67/6000 [train] loss: 0.10 adv-loss: 0.87  acc: 0.53 [lr] 0.06515 \n",
            "[m4] 69/6200 [train] loss: 0.01 adv-loss: 1.00  acc: 0.57 [lr] 0.06065 \n",
            "[m4] 71/6400 [train] loss: 0.01 adv-loss: 1.10  acc: 0.58 [lr] 0.05616 \n",
            "[m4] 74/6600 [train] loss: 0.11 adv-loss: 1.00  acc: 0.52 [lr] 0.05166 \n",
            "[m4] 76/6800 [train] loss: 0.00 adv-loss: 1.02  acc: 0.60 [lr] 0.04717 \n",
            "[m4] 78/7000 [train] loss: 0.02 adv-loss: 1.03  acc: 0.59 [lr] 0.04267 \n",
            "[m4] 80/7200 [train] loss: 0.00 adv-loss: 0.85  acc: 0.59 [lr] 0.03818 \n",
            "[m4] 83/7400 [train] loss: 0.00 adv-loss: 1.04  acc: 0.59 [lr] 0.03369 \n",
            "[m4] 85/7600 [train] loss: 0.00 adv-loss: 1.00  acc: 0.60 [lr] 0.02919 \n",
            "[m4] 87/7800 [train] loss: 0.00 adv-loss: 0.84  acc: 0.60 [lr] 0.02470 \n",
            "[m4] 89/8000 [train] loss: 0.00 adv-loss: 0.83  acc: 0.60 [lr] 0.02020 \n",
            "[m4] 92/8200 [train] loss: 0.01 adv-loss: 0.84  acc: 0.58 [lr] 0.01571 \n",
            "[m4] 94/8400 [train] loss: 0.00 adv-loss: 1.01  acc: 0.59 [lr] 0.01121 \n",
            "[m4] 96/8600 [train] loss: 0.00 adv-loss: 0.87  acc: 0.60 [lr] 0.00672 \n",
            "[m4] 98/8800 [train] loss: 0.00 adv-loss: 0.98  acc: 0.60 [lr] 0.00222 \n"
          ]
        }
      ],
      "source": [
        "statsS = []\n",
        "for i in range(len(classes_nums)) :\n",
        "  print(f\"-------NUMBER OF CLASSES = {classes_nums[i]}--------\\n\")\n",
        "  stats = sequential_train(4, train_dls[i], valid_dls[i], perturb_dls[i],alpha=alphas[i],\n",
        "                          max_epoch=100, use_diversity_reg=True, lr=0.1,\n",
        "                          weight_decay=5e-4, dropout=0.2,num_classes=classes_nums[i])\n",
        "  statsS.append(stats)"
      ]
    },
    {
      "cell_type": "code",
      "execution_count": 12,
      "metadata": {
        "id": "GakDcqXrk6Vj"
      },
      "outputs": [
        {
          "name": "stdout",
          "output_type": "stream",
          "text": [
            "NUMBER OF CLASSES = 2 : 0.9749999642372131\n",
            "NUMBER OF CLASSES = 5 : 0.8860000371932983\n",
            "NUMBER OF CLASSES = 10 : 0.8440000414848328\n",
            "NUMBER OF CLASSES = 20 : 0.7580000162124634\n",
            "NUMBER OF CLASSES = 50 : 0.6735999584197998\n"
          ]
        }
      ],
      "source": [
        "for i in range(len(classes_nums)) :\n",
        "  print(f\"NUMBER OF CLASSES = {classes_nums[i]} : \", end=\"\")\n",
        "  print(get_ensemble_acc(statsS[i]['all_models'], test_dls[i]))"
      ]
    },
    {
      "cell_type": "code",
      "execution_count": 13,
      "metadata": {
        "id": "_YIXE2ynGIJY"
      },
      "outputs": [],
      "source": [
        "# for i in range(len(classes_nums)) :\n",
        "#   print(f\"NUMBER OF CLASSES = {classes_nums[i]} : \", end=\"\")\n",
        "#   probas_ensemble_c100 = get_probas_ensemble(stats['all_models'], test_dl_c100)\n",
        "#   probas_ensemble_c100 = probas_ensemble_c100.max(dim=1).values.cpu().numpy()\n",
        "#   plot_hist(probas_ensemble_c100)"
      ]
    },
    {
      "attachments": {},
      "cell_type": "markdown",
      "metadata": {
        "id": "qhoiEoDXKzfm"
      },
      "source": [
        "Ensemble Size = 1"
      ]
    },
    {
      "cell_type": "code",
      "execution_count": 14,
      "metadata": {
        "id": "0pCkRYJXK21k"
      },
      "outputs": [],
      "source": [
        "# print(get_ensemble_acc(stats['all_models'][:1], test_dl))\n",
        "# probas_ensemble_c100 = get_probas_ensemble(stats['all_models'][:1], test_dl_c100)\n",
        "# probas_ensemble_c100 = probas_ensemble_c100.max(dim=1).values.cpu().numpy()\n",
        "# plot_hist(probas_ensemble_c100)"
      ]
    },
    {
      "attachments": {},
      "cell_type": "markdown",
      "metadata": {
        "id": "N0wWhES6K-uy"
      },
      "source": [
        "Ensemble Size = 2"
      ]
    },
    {
      "cell_type": "code",
      "execution_count": 15,
      "metadata": {
        "id": "bHyjwjA3LBIG"
      },
      "outputs": [],
      "source": [
        "# print(get_ensemble_acc(stats['all_models'][:2], test_dl))\n",
        "# probas_ensemble_c100 = get_probas_ensemble(stats['all_models'][:2], test_dl_c100)\n",
        "# probas_ensemble_c100 = probas_ensemble_c100.max(dim=1).values.cpu().numpy()\n",
        "# plot_hist(probas_ensemble_c100)"
      ]
    },
    {
      "attachments": {},
      "cell_type": "markdown",
      "metadata": {
        "id": "lCfSPahpLDyr"
      },
      "source": [
        "Ensemble Size = 3"
      ]
    },
    {
      "cell_type": "code",
      "execution_count": 16,
      "metadata": {
        "id": "9pBOgPF1LGRB"
      },
      "outputs": [],
      "source": [
        "# print(get_ensemble_acc(stats['all_models'][:3], test_dl))\n",
        "# probas_ensemble_c100 = get_probas_ensemble(stats['all_models'][:3], test_dl_c100)\n",
        "# probas_ensemble_c100 = probas_ensemble_c100.max(dim=1).values.cpu().numpy()\n",
        "# plot_hist(probas_ensemble_c100)"
      ]
    },
    {
      "attachments": {},
      "cell_type": "markdown",
      "metadata": {
        "id": "0MufsVxnHUoF"
      },
      "source": [
        "# Train without D-BAT"
      ]
    },
    {
      "cell_type": "code",
      "execution_count": 17,
      "metadata": {
        "id": "8ed2mCcGGIMR"
      },
      "outputs": [
        {
          "name": "stdout",
          "output_type": "stream",
          "text": [
            "-------NUMBER OF CLASSES = 2--------\n",
            "\n",
            "[m1] 0/0 [train] loss: 0.72 adv-loss: 0.00  acc: 0.39 \n",
            "[m1] 50/200 [train] loss: 0.00 adv-loss: 0.00  acc: 0.98 [lr] 0.09950 \n",
            "[m2] 0/0 [train] loss: 0.86 adv-loss: 0.00  acc: 0.57 \n",
            "[m2] 50/200 [train] loss: 0.00 adv-loss: 0.00  acc: 0.99 [lr] 0.09950 \n",
            "[m3] 0/0 [train] loss: 0.66 adv-loss: 0.00  acc: 0.42 \n",
            "[m3] 50/200 [train] loss: 0.00 adv-loss: 0.00  acc: 0.94 [lr] 0.09950 \n",
            "[m4] 0/0 [train] loss: 0.99 adv-loss: 0.00  acc: 0.56 \n",
            "[m4] 50/200 [train] loss: 0.00 adv-loss: 0.00  acc: 0.96 [lr] 0.09950 \n",
            "-------NUMBER OF CLASSES = 5--------\n",
            "\n",
            "[m1] 0/0 [train] loss: 1.83 adv-loss: 0.00  acc: 0.16 \n",
            "[m1] 22/200 [train] loss: 0.03 adv-loss: 0.00  acc: 0.77 [lr] 0.04467 \n",
            "[m1] 44/400 [train] loss: 0.06 adv-loss: 0.00  acc: 0.78 [lr] 0.08911 \n",
            "[m1] 66/600 [train] loss: 0.00 adv-loss: 0.00  acc: 0.84 [lr] 0.06644 \n",
            "[m1] 88/800 [train] loss: 0.00 adv-loss: 0.00  acc: 0.85 [lr] 0.02200 \n",
            "[m2] 0/0 [train] loss: 1.75 adv-loss: 0.00  acc: 0.24 \n",
            "[m2] 22/200 [train] loss: 0.02 adv-loss: 0.00  acc: 0.80 [lr] 0.04467 \n",
            "[m2] 44/400 [train] loss: 0.04 adv-loss: 0.00  acc: 0.63 [lr] 0.08911 \n",
            "[m2] 66/600 [train] loss: 0.00 adv-loss: 0.00  acc: 0.84 [lr] 0.06644 \n",
            "[m2] 88/800 [train] loss: 0.00 adv-loss: 0.00  acc: 0.87 [lr] 0.02200 \n",
            "[m3] 0/0 [train] loss: 1.88 adv-loss: 0.00  acc: 0.20 \n",
            "[m3] 22/200 [train] loss: 0.07 adv-loss: 0.00  acc: 0.80 [lr] 0.04467 \n",
            "[m3] 44/400 [train] loss: 0.04 adv-loss: 0.00  acc: 0.79 [lr] 0.08911 \n",
            "[m3] 66/600 [train] loss: 0.00 adv-loss: 0.00  acc: 0.87 [lr] 0.06644 \n",
            "[m3] 88/800 [train] loss: 0.00 adv-loss: 0.00  acc: 0.86 [lr] 0.02200 \n",
            "[m4] 0/0 [train] loss: 1.94 adv-loss: 0.00  acc: 0.21 \n",
            "[m4] 22/200 [train] loss: 0.24 adv-loss: 0.00  acc: 0.74 [lr] 0.04467 \n",
            "[m4] 44/400 [train] loss: 0.04 adv-loss: 0.00  acc: 0.83 [lr] 0.08911 \n",
            "[m4] 66/600 [train] loss: 0.00 adv-loss: 0.00  acc: 0.85 [lr] 0.06644 \n",
            "[m4] 88/800 [train] loss: 0.00 adv-loss: 0.00  acc: 0.87 [lr] 0.02200 \n",
            "-------NUMBER OF CLASSES = 10--------\n",
            "\n",
            "[m1] 0/0 [train] loss: 2.61 adv-loss: 0.00  acc: 0.07 \n",
            "[m1] 11/200 [train] loss: 0.45 adv-loss: 0.00  acc: 0.53 [lr] 0.02233 \n",
            "[m1] 22/400 [train] loss: 0.10 adv-loss: 0.00  acc: 0.63 [lr] 0.04456 \n",
            "[m1] 33/600 [train] loss: 0.05 adv-loss: 0.00  acc: 0.74 [lr] 0.06678 \n",
            "[m1] 44/800 [train] loss: 0.10 adv-loss: 0.00  acc: 0.73 [lr] 0.08900 \n",
            "[m1] 55/1000 [train] loss: 0.04 adv-loss: 0.00  acc: 0.77 [lr] 0.08878 \n",
            "[m1] 66/1200 [train] loss: 0.00 adv-loss: 0.00  acc: 0.80 [lr] 0.06656 \n",
            "[m1] 77/1400 [train] loss: 0.00 adv-loss: 0.00  acc: 0.81 [lr] 0.04433 \n",
            "[m1] 88/1600 [train] loss: 0.00 adv-loss: 0.00  acc: 0.81 [lr] 0.02211 \n",
            "[m2] 0/0 [train] loss: 2.63 adv-loss: 0.00  acc: 0.09 \n",
            "[m2] 11/200 [train] loss: 0.35 adv-loss: 0.00  acc: 0.64 [lr] 0.02233 \n",
            "[m2] 22/400 [train] loss: 0.06 adv-loss: 0.00  acc: 0.70 [lr] 0.04456 \n",
            "[m2] 33/600 [train] loss: 0.05 adv-loss: 0.00  acc: 0.71 [lr] 0.06678 \n",
            "[m2] 44/800 [train] loss: 0.04 adv-loss: 0.00  acc: 0.74 [lr] 0.08900 \n",
            "[m2] 55/1000 [train] loss: 0.07 adv-loss: 0.00  acc: 0.67 [lr] 0.08878 \n",
            "[m2] 66/1200 [train] loss: 0.02 adv-loss: 0.00  acc: 0.73 [lr] 0.06656 \n",
            "[m2] 77/1400 [train] loss: 0.00 adv-loss: 0.00  acc: 0.81 [lr] 0.04433 \n",
            "[m2] 88/1600 [train] loss: 0.00 adv-loss: 0.00  acc: 0.81 [lr] 0.02211 \n",
            "[m3] 0/0 [train] loss: 2.43 adv-loss: 0.00  acc: 0.12 \n",
            "[m3] 11/200 [train] loss: 0.28 adv-loss: 0.00  acc: 0.73 [lr] 0.02233 \n",
            "[m3] 22/400 [train] loss: 0.09 adv-loss: 0.00  acc: 0.64 [lr] 0.04456 \n",
            "[m3] 33/600 [train] loss: 0.16 adv-loss: 0.00  acc: 0.71 [lr] 0.06678 \n",
            "[m3] 44/800 [train] loss: 0.09 adv-loss: 0.00  acc: 0.73 [lr] 0.08900 \n",
            "[m3] 55/1000 [train] loss: 0.03 adv-loss: 0.00  acc: 0.78 [lr] 0.08878 \n",
            "[m3] 66/1200 [train] loss: 0.00 adv-loss: 0.00  acc: 0.79 [lr] 0.06656 \n",
            "[m3] 77/1400 [train] loss: 0.00 adv-loss: 0.00  acc: 0.83 [lr] 0.04433 \n",
            "[m3] 88/1600 [train] loss: 0.00 adv-loss: 0.00  acc: 0.83 [lr] 0.02211 \n",
            "[m4] 0/0 [train] loss: 2.65 adv-loss: 0.00  acc: 0.07 \n",
            "[m4] 11/200 [train] loss: 0.35 adv-loss: 0.00  acc: 0.65 [lr] 0.02233 \n",
            "[m4] 22/400 [train] loss: 0.06 adv-loss: 0.00  acc: 0.73 [lr] 0.04456 \n",
            "[m4] 33/600 [train] loss: 0.06 adv-loss: 0.00  acc: 0.63 [lr] 0.06678 \n",
            "[m4] 44/800 [train] loss: 0.08 adv-loss: 0.00  acc: 0.68 [lr] 0.08900 \n",
            "[m4] 55/1000 [train] loss: 0.02 adv-loss: 0.00  acc: 0.72 [lr] 0.08878 \n",
            "[m4] 66/1200 [train] loss: 0.00 adv-loss: 0.00  acc: 0.77 [lr] 0.06656 \n",
            "[m4] 77/1400 [train] loss: 0.00 adv-loss: 0.00  acc: 0.81 [lr] 0.04433 \n",
            "[m4] 88/1600 [train] loss: 0.00 adv-loss: 0.00  acc: 0.81 [lr] 0.02211 \n",
            "-------NUMBER OF CLASSES = 20--------\n",
            "\n",
            "[m1] 0/0 [train] loss: 3.20 adv-loss: 0.00  acc: 0.04 \n",
            "[m1] 5/200 [train] loss: 0.22 adv-loss: 0.00  acc: 0.63 [lr] 0.01117 \n",
            "[m1] 11/400 [train] loss: 0.21 adv-loss: 0.00  acc: 0.57 [lr] 0.02228 \n",
            "[m1] 16/600 [train] loss: 0.19 adv-loss: 0.00  acc: 0.62 [lr] 0.03339 \n",
            "[m1] 22/800 [train] loss: 0.06 adv-loss: 0.00  acc: 0.63 [lr] 0.04450 \n",
            "[m1] 27/1000 [train] loss: 0.13 adv-loss: 0.00  acc: 0.64 [lr] 0.05561 \n",
            "[m1] 33/1200 [train] loss: 0.18 adv-loss: 0.00  acc: 0.62 [lr] 0.06672 \n",
            "[m1] 38/1400 [train] loss: 0.10 adv-loss: 0.00  acc: 0.56 [lr] 0.07783 \n",
            "[m1] 44/1600 [train] loss: 0.22 adv-loss: 0.00  acc: 0.57 [lr] 0.08894 \n",
            "[m1] 50/1800 [train] loss: 0.15 adv-loss: 0.00  acc: 0.59 [lr] 0.09994 \n",
            "[m1] 55/2000 [train] loss: 0.11 adv-loss: 0.00  acc: 0.62 [lr] 0.08883 \n",
            "[m1] 61/2200 [train] loss: 0.05 adv-loss: 0.00  acc: 0.64 [lr] 0.07772 \n",
            "[m1] 66/2400 [train] loss: 0.03 adv-loss: 0.00  acc: 0.65 [lr] 0.06661 \n",
            "[m1] 72/2600 [train] loss: 0.00 adv-loss: 0.00  acc: 0.69 [lr] 0.05550 \n",
            "[m1] 77/2800 [train] loss: 0.00 adv-loss: 0.00  acc: 0.69 [lr] 0.04439 \n",
            "[m1] 83/3000 [train] loss: 0.00 adv-loss: 0.00  acc: 0.69 [lr] 0.03328 \n",
            "[m1] 88/3200 [train] loss: 0.00 adv-loss: 0.00  acc: 0.71 [lr] 0.02217 \n",
            "[m1] 94/3400 [train] loss: 0.00 adv-loss: 0.00  acc: 0.71 [lr] 0.01106 \n",
            "[m2] 0/0 [train] loss: 3.40 adv-loss: 0.00  acc: 0.04 \n",
            "[m2] 5/200 [train] loss: 0.24 adv-loss: 0.00  acc: 0.61 [lr] 0.01117 \n",
            "[m2] 11/400 [train] loss: 0.35 adv-loss: 0.00  acc: 0.61 [lr] 0.02228 \n",
            "[m2] 16/600 [train] loss: 0.24 adv-loss: 0.00  acc: 0.65 [lr] 0.03339 \n",
            "[m2] 22/800 [train] loss: 0.34 adv-loss: 0.00  acc: 0.59 [lr] 0.04450 \n",
            "[m2] 27/1000 [train] loss: 0.17 adv-loss: 0.00  acc: 0.62 [lr] 0.05561 \n",
            "[m2] 33/1200 [train] loss: 0.19 adv-loss: 0.00  acc: 0.62 [lr] 0.06672 \n",
            "[m2] 38/1400 [train] loss: 0.15 adv-loss: 0.00  acc: 0.61 [lr] 0.07783 \n",
            "[m2] 44/1600 [train] loss: 0.12 adv-loss: 0.00  acc: 0.55 [lr] 0.08894 \n",
            "[m2] 50/1800 [train] loss: 0.07 adv-loss: 0.00  acc: 0.40 [lr] 0.09994 \n",
            "[m2] 55/2000 [train] loss: 0.08 adv-loss: 0.00  acc: 0.59 [lr] 0.08883 \n",
            "[m2] 61/2200 [train] loss: 0.04 adv-loss: 0.00  acc: 0.64 [lr] 0.07772 \n",
            "[m2] 66/2400 [train] loss: 0.00 adv-loss: 0.00  acc: 0.68 [lr] 0.06661 \n",
            "[m2] 72/2600 [train] loss: 0.00 adv-loss: 0.00  acc: 0.68 [lr] 0.05550 \n",
            "[m2] 77/2800 [train] loss: 0.00 adv-loss: 0.00  acc: 0.70 [lr] 0.04439 \n",
            "[m2] 83/3000 [train] loss: 0.00 adv-loss: 0.00  acc: 0.71 [lr] 0.03328 \n",
            "[m2] 88/3200 [train] loss: 0.00 adv-loss: 0.00  acc: 0.70 [lr] 0.02217 \n",
            "[m2] 94/3400 [train] loss: 0.00 adv-loss: 0.00  acc: 0.70 [lr] 0.01106 \n",
            "[m3] 0/0 [train] loss: 3.20 adv-loss: 0.00  acc: 0.03 \n",
            "[m3] 5/200 [train] loss: 0.27 adv-loss: 0.00  acc: 0.63 [lr] 0.01117 \n",
            "[m3] 11/400 [train] loss: 0.15 adv-loss: 0.00  acc: 0.60 [lr] 0.02228 \n",
            "[m3] 16/600 [train] loss: 0.14 adv-loss: 0.00  acc: 0.61 [lr] 0.03339 \n",
            "[m3] 22/800 [train] loss: 0.15 adv-loss: 0.00  acc: 0.60 [lr] 0.04450 \n",
            "[m3] 27/1000 [train] loss: 0.12 adv-loss: 0.00  acc: 0.65 [lr] 0.05561 \n",
            "[m3] 33/1200 [train] loss: 0.22 adv-loss: 0.00  acc: 0.60 [lr] 0.06672 \n",
            "[m3] 38/1400 [train] loss: 0.22 adv-loss: 0.00  acc: 0.62 [lr] 0.07783 \n",
            "[m3] 44/1600 [train] loss: 0.17 adv-loss: 0.00  acc: 0.60 [lr] 0.08894 \n",
            "[m3] 50/1800 [train] loss: 0.07 adv-loss: 0.00  acc: 0.46 [lr] 0.09994 \n",
            "[m3] 55/2000 [train] loss: 0.08 adv-loss: 0.00  acc: 0.60 [lr] 0.08883 \n",
            "[m3] 61/2200 [train] loss: 0.07 adv-loss: 0.00  acc: 0.57 [lr] 0.07772 \n",
            "[m3] 66/2400 [train] loss: 0.00 adv-loss: 0.00  acc: 0.68 [lr] 0.06661 \n",
            "[m3] 72/2600 [train] loss: 0.02 adv-loss: 0.00  acc: 0.65 [lr] 0.05550 \n",
            "[m3] 77/2800 [train] loss: 0.00 adv-loss: 0.00  acc: 0.68 [lr] 0.04439 \n",
            "[m3] 83/3000 [train] loss: 0.00 adv-loss: 0.00  acc: 0.68 [lr] 0.03328 \n",
            "[m3] 88/3200 [train] loss: 0.00 adv-loss: 0.00  acc: 0.69 [lr] 0.02217 \n",
            "[m3] 94/3400 [train] loss: 0.00 adv-loss: 0.00  acc: 0.69 [lr] 0.01106 \n",
            "[m4] 0/0 [train] loss: 3.42 adv-loss: 0.00  acc: 0.04 \n",
            "[m4] 5/200 [train] loss: 0.33 adv-loss: 0.00  acc: 0.63 [lr] 0.01117 \n",
            "[m4] 11/400 [train] loss: 0.33 adv-loss: 0.00  acc: 0.49 [lr] 0.02228 \n",
            "[m4] 16/600 [train] loss: 0.20 adv-loss: 0.00  acc: 0.55 [lr] 0.03339 \n",
            "[m4] 22/800 [train] loss: 0.19 adv-loss: 0.00  acc: 0.60 [lr] 0.04450 \n",
            "[m4] 27/1000 [train] loss: 0.25 adv-loss: 0.00  acc: 0.60 [lr] 0.05561 \n",
            "[m4] 33/1200 [train] loss: 0.10 adv-loss: 0.00  acc: 0.61 [lr] 0.06672 \n",
            "[m4] 38/1400 [train] loss: 0.22 adv-loss: 0.00  acc: 0.60 [lr] 0.07783 \n",
            "[m4] 44/1600 [train] loss: 0.11 adv-loss: 0.00  acc: 0.60 [lr] 0.08894 \n",
            "[m4] 50/1800 [train] loss: 0.23 adv-loss: 0.00  acc: 0.56 [lr] 0.09994 \n",
            "[m4] 55/2000 [train] loss: 0.06 adv-loss: 0.00  acc: 0.64 [lr] 0.08883 \n",
            "[m4] 61/2200 [train] loss: 0.01 adv-loss: 0.00  acc: 0.67 [lr] 0.07772 \n",
            "[m4] 66/2400 [train] loss: 0.00 adv-loss: 0.00  acc: 0.72 [lr] 0.06661 \n",
            "[m4] 72/2600 [train] loss: 0.00 adv-loss: 0.00  acc: 0.71 [lr] 0.05550 \n",
            "[m4] 77/2800 [train] loss: 0.00 adv-loss: 0.00  acc: 0.70 [lr] 0.04439 \n",
            "[m4] 83/3000 [train] loss: 0.00 adv-loss: 0.00  acc: 0.72 [lr] 0.03328 \n",
            "[m4] 88/3200 [train] loss: 0.00 adv-loss: 0.00  acc: 0.73 [lr] 0.02217 \n",
            "[m4] 94/3400 [train] loss: 0.00 adv-loss: 0.00  acc: 0.72 [lr] 0.01106 \n",
            "-------NUMBER OF CLASSES = 50--------\n",
            "\n",
            "[m1] 0/0 [train] loss: 4.23 adv-loss: 0.00  acc: 0.03 \n",
            "[m1] 2/200 [train] loss: 1.39 adv-loss: 0.00  acc: 0.50 [lr] 0.00452 \n",
            "[m1] 4/400 [train] loss: 0.87 adv-loss: 0.00  acc: 0.54 [lr] 0.00901 \n",
            "[m1] 6/600 [train] loss: 0.65 adv-loss: 0.00  acc: 0.56 [lr] 0.01351 \n",
            "[m1] 8/800 [train] loss: 1.24 adv-loss: 0.00  acc: 0.31 [lr] 0.01800 \n",
            "[m1] 11/1000 [train] loss: 0.75 adv-loss: 0.00  acc: 0.46 [lr] 0.02249 \n",
            "[m1] 13/1200 [train] loss: 0.54 adv-loss: 0.00  acc: 0.57 [lr] 0.02699 \n",
            "[m1] 15/1400 [train] loss: 0.45 adv-loss: 0.00  acc: 0.57 [lr] 0.03148 \n",
            "[m1] 17/1600 [train] loss: 0.27 adv-loss: 0.00  acc: 0.53 [lr] 0.03598 \n",
            "[m1] 20/1800 [train] loss: 0.37 adv-loss: 0.00  acc: 0.54 [lr] 0.04047 \n",
            "[m1] 22/2000 [train] loss: 0.35 adv-loss: 0.00  acc: 0.52 [lr] 0.04497 \n",
            "[m1] 24/2200 [train] loss: 0.16 adv-loss: 0.00  acc: 0.53 [lr] 0.04946 \n",
            "[m1] 26/2400 [train] loss: 0.36 adv-loss: 0.00  acc: 0.51 [lr] 0.05396 \n",
            "[m1] 29/2600 [train] loss: 0.66 adv-loss: 0.00  acc: 0.46 [lr] 0.05845 \n",
            "[m1] 31/2800 [train] loss: 0.26 adv-loss: 0.00  acc: 0.51 [lr] 0.06294 \n",
            "[m1] 33/3000 [train] loss: 0.34 adv-loss: 0.00  acc: 0.54 [lr] 0.06744 \n",
            "[m1] 35/3200 [train] loss: 0.27 adv-loss: 0.00  acc: 0.50 [lr] 0.07193 \n",
            "[m1] 38/3400 [train] loss: 0.52 adv-loss: 0.00  acc: 0.46 [lr] 0.07643 \n",
            "[m1] 40/3600 [train] loss: 0.35 adv-loss: 0.00  acc: 0.47 [lr] 0.08092 \n",
            "[m1] 42/3800 [train] loss: 0.20 adv-loss: 0.00  acc: 0.52 [lr] 0.08542 \n",
            "[m1] 44/4000 [train] loss: 0.24 adv-loss: 0.00  acc: 0.48 [lr] 0.08991 \n",
            "[m1] 47/4200 [train] loss: 0.30 adv-loss: 0.00  acc: 0.47 [lr] 0.09440 \n",
            "[m1] 49/4400 [train] loss: 0.28 adv-loss: 0.00  acc: 0.48 [lr] 0.09890 \n",
            "[m1] 51/4600 [train] loss: 0.18 adv-loss: 0.00  acc: 0.48 [lr] 0.09661 \n",
            "[m1] 53/4800 [train] loss: 0.29 adv-loss: 0.00  acc: 0.53 [lr] 0.09211 \n",
            "[m1] 56/5000 [train] loss: 0.10 adv-loss: 0.00  acc: 0.54 [lr] 0.08762 \n",
            "[m1] 58/5200 [train] loss: 0.08 adv-loss: 0.00  acc: 0.49 [lr] 0.08312 \n",
            "[m1] 60/5400 [train] loss: 0.10 adv-loss: 0.00  acc: 0.56 [lr] 0.07863 \n",
            "[m1] 62/5600 [train] loss: 0.11 adv-loss: 0.00  acc: 0.57 [lr] 0.07413 \n",
            "[m1] 65/5800 [train] loss: 0.11 adv-loss: 0.00  acc: 0.48 [lr] 0.06964 \n",
            "[m1] 67/6000 [train] loss: 0.12 adv-loss: 0.00  acc: 0.51 [lr] 0.06515 \n",
            "[m1] 69/6200 [train] loss: 0.08 adv-loss: 0.00  acc: 0.55 [lr] 0.06065 \n",
            "[m1] 71/6400 [train] loss: 0.05 adv-loss: 0.00  acc: 0.57 [lr] 0.05616 \n",
            "[m1] 74/6600 [train] loss: 0.07 adv-loss: 0.00  acc: 0.53 [lr] 0.05166 \n",
            "[m1] 76/6800 [train] loss: 0.01 adv-loss: 0.00  acc: 0.59 [lr] 0.04717 \n",
            "[m1] 78/7000 [train] loss: 0.00 adv-loss: 0.00  acc: 0.60 [lr] 0.04267 \n",
            "[m1] 80/7200 [train] loss: 0.00 adv-loss: 0.00  acc: 0.60 [lr] 0.03818 \n",
            "[m1] 83/7400 [train] loss: 0.00 adv-loss: 0.00  acc: 0.61 [lr] 0.03369 \n",
            "[m1] 85/7600 [train] loss: 0.00 adv-loss: 0.00  acc: 0.62 [lr] 0.02919 \n",
            "[m1] 87/7800 [train] loss: 0.00 adv-loss: 0.00  acc: 0.61 [lr] 0.02470 \n",
            "[m1] 89/8000 [train] loss: 0.00 adv-loss: 0.00  acc: 0.61 [lr] 0.02020 \n",
            "[m1] 92/8200 [train] loss: 0.00 adv-loss: 0.00  acc: 0.61 [lr] 0.01571 \n",
            "[m1] 94/8400 [train] loss: 0.00 adv-loss: 0.00  acc: 0.61 [lr] 0.01121 \n",
            "[m1] 96/8600 [train] loss: 0.00 adv-loss: 0.00  acc: 0.61 [lr] 0.00672 \n",
            "[m1] 98/8800 [train] loss: 0.00 adv-loss: 0.00  acc: 0.61 [lr] 0.00222 \n",
            "[m2] 0/0 [train] loss: 4.22 adv-loss: 0.00  acc: 0.02 \n",
            "[m2] 2/200 [train] loss: 1.47 adv-loss: 0.00  acc: 0.50 [lr] 0.00452 \n",
            "[m2] 4/400 [train] loss: 0.88 adv-loss: 0.00  acc: 0.51 [lr] 0.00901 \n",
            "[m2] 6/600 [train] loss: 0.68 adv-loss: 0.00  acc: 0.57 [lr] 0.01351 \n",
            "[m2] 8/800 [train] loss: 0.97 adv-loss: 0.00  acc: 0.28 [lr] 0.01800 \n",
            "[m2] 11/1000 [train] loss: 0.66 adv-loss: 0.00  acc: 0.52 [lr] 0.02249 \n",
            "[m2] 13/1200 [train] loss: 0.35 adv-loss: 0.00  acc: 0.44 [lr] 0.02699 \n",
            "[m2] 15/1400 [train] loss: 0.49 adv-loss: 0.00  acc: 0.55 [lr] 0.03148 \n",
            "[m2] 17/1600 [train] loss: 0.45 adv-loss: 0.00  acc: 0.47 [lr] 0.03598 \n",
            "[m2] 20/1800 [train] loss: 0.36 adv-loss: 0.00  acc: 0.49 [lr] 0.04047 \n",
            "[m2] 22/2000 [train] loss: 0.55 adv-loss: 0.00  acc: 0.51 [lr] 0.04497 \n",
            "[m2] 24/2200 [train] loss: 0.48 adv-loss: 0.00  acc: 0.56 [lr] 0.04946 \n",
            "[m2] 26/2400 [train] loss: 0.22 adv-loss: 0.00  acc: 0.54 [lr] 0.05396 \n",
            "[m2] 29/2600 [train] loss: 0.64 adv-loss: 0.00  acc: 0.49 [lr] 0.05845 \n",
            "[m2] 31/2800 [train] loss: 0.28 adv-loss: 0.00  acc: 0.51 [lr] 0.06294 \n",
            "[m2] 33/3000 [train] loss: 0.23 adv-loss: 0.00  acc: 0.55 [lr] 0.06744 \n",
            "[m2] 35/3200 [train] loss: 0.19 adv-loss: 0.00  acc: 0.52 [lr] 0.07193 \n",
            "[m2] 38/3400 [train] loss: 0.33 adv-loss: 0.00  acc: 0.46 [lr] 0.07643 \n",
            "[m2] 40/3600 [train] loss: 0.19 adv-loss: 0.00  acc: 0.49 [lr] 0.08092 \n",
            "[m2] 42/3800 [train] loss: 0.37 adv-loss: 0.00  acc: 0.52 [lr] 0.08542 \n",
            "[m2] 44/4000 [train] loss: 0.32 adv-loss: 0.00  acc: 0.50 [lr] 0.08991 \n",
            "[m2] 47/4200 [train] loss: 0.23 adv-loss: 0.00  acc: 0.45 [lr] 0.09440 \n",
            "[m2] 49/4400 [train] loss: 0.31 adv-loss: 0.00  acc: 0.48 [lr] 0.09890 \n",
            "[m2] 51/4600 [train] loss: 0.27 adv-loss: 0.00  acc: 0.49 [lr] 0.09661 \n",
            "[m2] 53/4800 [train] loss: 0.14 adv-loss: 0.00  acc: 0.52 [lr] 0.09211 \n",
            "[m2] 56/5000 [train] loss: 0.16 adv-loss: 0.00  acc: 0.49 [lr] 0.08762 \n",
            "[m2] 58/5200 [train] loss: 0.16 adv-loss: 0.00  acc: 0.55 [lr] 0.08312 \n",
            "[m2] 60/5400 [train] loss: 0.07 adv-loss: 0.00  acc: 0.55 [lr] 0.07863 \n",
            "[m2] 62/5600 [train] loss: 0.13 adv-loss: 0.00  acc: 0.50 [lr] 0.07413 \n",
            "[m2] 65/5800 [train] loss: 0.09 adv-loss: 0.00  acc: 0.53 [lr] 0.06964 \n",
            "[m2] 67/6000 [train] loss: 0.02 adv-loss: 0.00  acc: 0.55 [lr] 0.06515 \n",
            "[m2] 69/6200 [train] loss: 0.00 adv-loss: 0.00  acc: 0.59 [lr] 0.06065 \n",
            "[m2] 71/6400 [train] loss: 0.00 adv-loss: 0.00  acc: 0.60 [lr] 0.05616 \n",
            "[m2] 74/6600 [train] loss: 0.01 adv-loss: 0.00  acc: 0.58 [lr] 0.05166 \n",
            "[m2] 76/6800 [train] loss: 0.00 adv-loss: 0.00  acc: 0.60 [lr] 0.04717 \n",
            "[m2] 78/7000 [train] loss: 0.01 adv-loss: 0.00  acc: 0.59 [lr] 0.04267 \n",
            "[m2] 80/7200 [train] loss: 0.01 adv-loss: 0.00  acc: 0.58 [lr] 0.03818 \n",
            "[m2] 83/7400 [train] loss: 0.01 adv-loss: 0.00  acc: 0.59 [lr] 0.03369 \n",
            "[m2] 85/7600 [train] loss: 0.01 adv-loss: 0.00  acc: 0.60 [lr] 0.02919 \n",
            "[m2] 87/7800 [train] loss: 0.00 adv-loss: 0.00  acc: 0.59 [lr] 0.02470 \n",
            "[m2] 89/8000 [train] loss: 0.01 adv-loss: 0.00  acc: 0.59 [lr] 0.02020 \n",
            "[m2] 92/8200 [train] loss: 0.00 adv-loss: 0.00  acc: 0.59 [lr] 0.01571 \n",
            "[m2] 94/8400 [train] loss: 0.00 adv-loss: 0.00  acc: 0.60 [lr] 0.01121 \n",
            "[m2] 96/8600 [train] loss: 0.00 adv-loss: 0.00  acc: 0.60 [lr] 0.00672 \n",
            "[m2] 98/8800 [train] loss: 0.00 adv-loss: 0.00  acc: 0.60 [lr] 0.00222 \n",
            "[m3] 0/0 [train] loss: 4.32 adv-loss: 0.00  acc: 0.02 \n",
            "[m3] 2/200 [train] loss: 1.58 adv-loss: 0.00  acc: 0.50 [lr] 0.00452 \n",
            "[m3] 4/400 [train] loss: 0.79 adv-loss: 0.00  acc: 0.54 [lr] 0.00901 \n",
            "[m3] 6/600 [train] loss: 0.79 adv-loss: 0.00  acc: 0.54 [lr] 0.01351 \n",
            "[m3] 8/800 [train] loss: 0.79 adv-loss: 0.00  acc: 0.44 [lr] 0.01800 \n",
            "[m3] 11/1000 [train] loss: 0.65 adv-loss: 0.00  acc: 0.51 [lr] 0.02249 \n",
            "[m3] 13/1200 [train] loss: 0.31 adv-loss: 0.00  acc: 0.57 [lr] 0.02699 \n",
            "[m3] 15/1400 [train] loss: 0.44 adv-loss: 0.00  acc: 0.53 [lr] 0.03148 \n",
            "[m3] 17/1600 [train] loss: 0.38 adv-loss: 0.00  acc: 0.52 [lr] 0.03598 \n",
            "[m3] 20/1800 [train] loss: 0.37 adv-loss: 0.00  acc: 0.49 [lr] 0.04047 \n",
            "[m3] 22/2000 [train] loss: 0.31 adv-loss: 0.00  acc: 0.54 [lr] 0.04497 \n",
            "[m3] 24/2200 [train] loss: 0.44 adv-loss: 0.00  acc: 0.50 [lr] 0.04946 \n",
            "[m3] 26/2400 [train] loss: 0.35 adv-loss: 0.00  acc: 0.55 [lr] 0.05396 \n",
            "[m3] 29/2600 [train] loss: 0.31 adv-loss: 0.00  acc: 0.51 [lr] 0.05845 \n",
            "[m3] 31/2800 [train] loss: 0.28 adv-loss: 0.00  acc: 0.50 [lr] 0.06294 \n",
            "[m3] 33/3000 [train] loss: 0.22 adv-loss: 0.00  acc: 0.51 [lr] 0.06744 \n",
            "[m3] 35/3200 [train] loss: 0.31 adv-loss: 0.00  acc: 0.52 [lr] 0.07193 \n",
            "[m3] 38/3400 [train] loss: 0.41 adv-loss: 0.00  acc: 0.52 [lr] 0.07643 \n",
            "[m3] 40/3600 [train] loss: 0.28 adv-loss: 0.00  acc: 0.50 [lr] 0.08092 \n",
            "[m3] 42/3800 [train] loss: 0.23 adv-loss: 0.00  acc: 0.51 [lr] 0.08542 \n",
            "[m3] 44/4000 [train] loss: 0.20 adv-loss: 0.00  acc: 0.55 [lr] 0.08991 \n",
            "[m3] 47/4200 [train] loss: 0.15 adv-loss: 0.00  acc: 0.51 [lr] 0.09440 \n",
            "[m3] 49/4400 [train] loss: 0.33 adv-loss: 0.00  acc: 0.43 [lr] 0.09890 \n",
            "[m3] 51/4600 [train] loss: 0.19 adv-loss: 0.00  acc: 0.55 [lr] 0.09661 \n",
            "[m3] 53/4800 [train] loss: 0.16 adv-loss: 0.00  acc: 0.54 [lr] 0.09211 \n",
            "[m3] 56/5000 [train] loss: 0.30 adv-loss: 0.00  acc: 0.48 [lr] 0.08762 \n",
            "[m3] 58/5200 [train] loss: 0.20 adv-loss: 0.00  acc: 0.51 [lr] 0.08312 \n",
            "[m3] 60/5400 [train] loss: 0.11 adv-loss: 0.00  acc: 0.52 [lr] 0.07863 \n",
            "[m3] 62/5600 [train] loss: 0.04 adv-loss: 0.00  acc: 0.57 [lr] 0.07413 \n",
            "[m3] 65/5800 [train] loss: 0.08 adv-loss: 0.00  acc: 0.56 [lr] 0.06964 \n",
            "[m3] 67/6000 [train] loss: 0.18 adv-loss: 0.00  acc: 0.51 [lr] 0.06515 \n",
            "[m3] 69/6200 [train] loss: 0.05 adv-loss: 0.00  acc: 0.56 [lr] 0.06065 \n",
            "[m3] 71/6400 [train] loss: 0.05 adv-loss: 0.00  acc: 0.57 [lr] 0.05616 \n",
            "[m3] 74/6600 [train] loss: 0.06 adv-loss: 0.00  acc: 0.52 [lr] 0.05166 \n",
            "[m3] 76/6800 [train] loss: 0.02 adv-loss: 0.00  acc: 0.57 [lr] 0.04717 \n",
            "[m3] 78/7000 [train] loss: 0.00 adv-loss: 0.00  acc: 0.60 [lr] 0.04267 \n",
            "[m3] 80/7200 [train] loss: 0.00 adv-loss: 0.00  acc: 0.61 [lr] 0.03818 \n",
            "[m3] 83/7400 [train] loss: 0.01 adv-loss: 0.00  acc: 0.58 [lr] 0.03369 \n",
            "[m3] 85/7600 [train] loss: 0.01 adv-loss: 0.00  acc: 0.58 [lr] 0.02919 \n",
            "[m3] 87/7800 [train] loss: 0.00 adv-loss: 0.00  acc: 0.59 [lr] 0.02470 \n",
            "[m3] 89/8000 [train] loss: 0.00 adv-loss: 0.00  acc: 0.60 [lr] 0.02020 \n",
            "[m3] 92/8200 [train] loss: 0.02 adv-loss: 0.00  acc: 0.58 [lr] 0.01571 \n",
            "[m3] 94/8400 [train] loss: 0.00 adv-loss: 0.00  acc: 0.59 [lr] 0.01121 \n",
            "[m3] 96/8600 [train] loss: 0.00 adv-loss: 0.00  acc: 0.59 [lr] 0.00672 \n",
            "[m3] 98/8800 [train] loss: 0.00 adv-loss: 0.00  acc: 0.60 [lr] 0.00222 \n",
            "[m4] 0/0 [train] loss: 4.32 adv-loss: 0.00  acc: 0.02 \n",
            "[m4] 2/200 [train] loss: 1.33 adv-loss: 0.00  acc: 0.49 [lr] 0.00452 \n",
            "[m4] 4/400 [train] loss: 0.72 adv-loss: 0.00  acc: 0.55 [lr] 0.00901 \n",
            "[m4] 6/600 [train] loss: 0.80 adv-loss: 0.00  acc: 0.52 [lr] 0.01351 \n",
            "[m4] 8/800 [train] loss: 1.23 adv-loss: 0.00  acc: 0.41 [lr] 0.01800 \n",
            "[m4] 11/1000 [train] loss: 0.50 adv-loss: 0.00  acc: 0.55 [lr] 0.02249 \n",
            "[m4] 13/1200 [train] loss: 0.36 adv-loss: 0.00  acc: 0.56 [lr] 0.02699 \n",
            "[m4] 15/1400 [train] loss: 0.46 adv-loss: 0.00  acc: 0.53 [lr] 0.03148 \n",
            "[m4] 17/1600 [train] loss: 0.23 adv-loss: 0.00  acc: 0.53 [lr] 0.03598 \n",
            "[m4] 20/1800 [train] loss: 0.37 adv-loss: 0.00  acc: 0.52 [lr] 0.04047 \n",
            "[m4] 22/2000 [train] loss: 0.47 adv-loss: 0.00  acc: 0.51 [lr] 0.04497 \n",
            "[m4] 24/2200 [train] loss: 0.33 adv-loss: 0.00  acc: 0.53 [lr] 0.04946 \n",
            "[m4] 26/2400 [train] loss: 0.32 adv-loss: 0.00  acc: 0.52 [lr] 0.05396 \n",
            "[m4] 29/2600 [train] loss: 0.45 adv-loss: 0.00  acc: 0.50 [lr] 0.05845 \n",
            "[m4] 31/2800 [train] loss: 0.57 adv-loss: 0.00  acc: 0.47 [lr] 0.06294 \n",
            "[m4] 33/3000 [train] loss: 0.21 adv-loss: 0.00  acc: 0.53 [lr] 0.06744 \n",
            "[m4] 35/3200 [train] loss: 0.34 adv-loss: 0.00  acc: 0.52 [lr] 0.07193 \n",
            "[m4] 38/3400 [train] loss: 0.24 adv-loss: 0.00  acc: 0.50 [lr] 0.07643 \n",
            "[m4] 40/3600 [train] loss: 0.16 adv-loss: 0.00  acc: 0.51 [lr] 0.08092 \n",
            "[m4] 42/3800 [train] loss: 0.16 adv-loss: 0.00  acc: 0.55 [lr] 0.08542 \n",
            "[m4] 44/4000 [train] loss: 0.24 adv-loss: 0.00  acc: 0.50 [lr] 0.08991 \n",
            "[m4] 47/4200 [train] loss: 0.44 adv-loss: 0.00  acc: 0.49 [lr] 0.09440 \n",
            "[m4] 49/4400 [train] loss: 0.33 adv-loss: 0.00  acc: 0.48 [lr] 0.09890 \n",
            "[m4] 51/4600 [train] loss: 0.44 adv-loss: 0.00  acc: 0.47 [lr] 0.09661 \n",
            "[m4] 53/4800 [train] loss: 0.06 adv-loss: 0.00  acc: 0.53 [lr] 0.09211 \n",
            "[m4] 56/5000 [train] loss: 0.20 adv-loss: 0.00  acc: 0.36 [lr] 0.08762 \n",
            "[m4] 58/5200 [train] loss: 0.14 adv-loss: 0.00  acc: 0.53 [lr] 0.08312 \n",
            "[m4] 60/5400 [train] loss: 0.11 adv-loss: 0.00  acc: 0.53 [lr] 0.07863 \n",
            "[m4] 62/5600 [train] loss: 0.05 adv-loss: 0.00  acc: 0.55 [lr] 0.07413 \n",
            "[m4] 65/5800 [train] loss: 0.42 adv-loss: 0.00  acc: 0.45 [lr] 0.06964 \n",
            "[m4] 67/6000 [train] loss: 0.08 adv-loss: 0.00  acc: 0.55 [lr] 0.06515 \n",
            "[m4] 69/6200 [train] loss: 0.02 adv-loss: 0.00  acc: 0.57 [lr] 0.06065 \n",
            "[m4] 71/6400 [train] loss: 0.01 adv-loss: 0.00  acc: 0.58 [lr] 0.05616 \n",
            "[m4] 74/6600 [train] loss: 0.06 adv-loss: 0.00  acc: 0.54 [lr] 0.05166 \n",
            "[m4] 76/6800 [train] loss: 0.01 adv-loss: 0.00  acc: 0.57 [lr] 0.04717 \n",
            "[m4] 78/7000 [train] loss: 0.03 adv-loss: 0.00  acc: 0.58 [lr] 0.04267 \n",
            "[m4] 80/7200 [train] loss: 0.01 adv-loss: 0.00  acc: 0.58 [lr] 0.03818 \n",
            "[m4] 83/7400 [train] loss: 0.00 adv-loss: 0.00  acc: 0.59 [lr] 0.03369 \n",
            "[m4] 85/7600 [train] loss: 0.00 adv-loss: 0.00  acc: 0.60 [lr] 0.02919 \n",
            "[m4] 87/7800 [train] loss: 0.00 adv-loss: 0.00  acc: 0.59 [lr] 0.02470 \n",
            "[m4] 89/8000 [train] loss: 0.00 adv-loss: 0.00  acc: 0.61 [lr] 0.02020 \n",
            "[m4] 92/8200 [train] loss: 0.03 adv-loss: 0.00  acc: 0.59 [lr] 0.01571 \n",
            "[m4] 94/8400 [train] loss: 0.00 adv-loss: 0.00  acc: 0.61 [lr] 0.01121 \n",
            "[m4] 96/8600 [train] loss: 0.00 adv-loss: 0.00  acc: 0.61 [lr] 0.00672 \n",
            "[m4] 98/8800 [train] loss: 0.00 adv-loss: 0.00  acc: 0.60 [lr] 0.00222 \n"
          ]
        }
      ],
      "source": [
        "statsS = []\n",
        "for i in range(len(classes_nums)) :\n",
        "  print(f\"-------NUMBER OF CLASSES = {classes_nums[i]}--------\\n\")\n",
        "  stats = sequential_train(4, train_dls[i], valid_dls[i], perturb_dls[i],alpha=0,\n",
        "                          max_epoch=100, use_diversity_reg=False, lr=0.1,\n",
        "                          weight_decay=5e-4, dropout=0.2,num_classes=classes_nums[i])\n",
        "  statsS.append(stats)"
      ]
    },
    {
      "cell_type": "code",
      "execution_count": 18,
      "metadata": {
        "id": "8N1xEQifGIQa"
      },
      "outputs": [
        {
          "name": "stdout",
          "output_type": "stream",
          "text": [
            "NUMBER OF CLASSES = 2 : 0.98499995470047\n",
            "NUMBER OF CLASSES = 5 : 0.8700000643730164\n",
            "NUMBER OF CLASSES = 10 : 0.8470000624656677\n",
            "NUMBER OF CLASSES = 20 : 0.7570000290870667\n",
            "NUMBER OF CLASSES = 50 : 0.6721999645233154\n"
          ]
        }
      ],
      "source": [
        "for i in range(len(classes_nums)) :\n",
        "  print(f\"NUMBER OF CLASSES = {classes_nums[i]} : \", end=\"\")\n",
        "  print(get_ensemble_acc(statsS[i]['all_models'], test_dls[i]))"
      ]
    },
    {
      "cell_type": "code",
      "execution_count": 19,
      "metadata": {
        "id": "EXAImSbmHdpk"
      },
      "outputs": [],
      "source": [
        "# probas_ensemble_c100 = get_probas_ensemble(stats['all_models'], test_dl_c100)\n",
        "# probas_ensemble_c100 = probas_ensemble_c100.max(dim=1).values.cpu().numpy()\n",
        "# plot_hist(probas_ensemble_c100)"
      ]
    },
    {
      "attachments": {},
      "cell_type": "markdown",
      "metadata": {
        "id": "J_5NyriFLORG"
      },
      "source": [
        "Ensemble Size = 1"
      ]
    },
    {
      "cell_type": "code",
      "execution_count": 20,
      "metadata": {
        "id": "MWdOXM3-LORG"
      },
      "outputs": [],
      "source": [
        "# print(get_ensemble_acc(stats['all_models'][:1], test_dl))\n",
        "# probas_ensemble_c100 = get_probas_ensemble(stats['all_models'][:1], test_dl_c100)\n",
        "# probas_ensemble_c100 = probas_ensemble_c100.max(dim=1).values.cpu().numpy()\n",
        "# plot_hist(probas_ensemble_c100)"
      ]
    },
    {
      "attachments": {},
      "cell_type": "markdown",
      "metadata": {
        "id": "O34dbTTgLORG"
      },
      "source": [
        "Ensemble Size = 2"
      ]
    },
    {
      "cell_type": "code",
      "execution_count": 21,
      "metadata": {
        "id": "IT423JDzLORH"
      },
      "outputs": [],
      "source": [
        "# print(get_ensemble_acc(stats['all_models'][:2], test_dl))\n",
        "# probas_ensemble_c100 = get_probas_ensemble(stats['all_models'][:2], test_dl_c100)\n",
        "# probas_ensemble_c100 = probas_ensemble_c100.max(dim=1).values.cpu().numpy()\n",
        "# plot_hist(probas_ensemble_c100)"
      ]
    },
    {
      "attachments": {},
      "cell_type": "markdown",
      "metadata": {
        "id": "0ZHRy1AOLORH"
      },
      "source": [
        "Ensemble Size = 3"
      ]
    },
    {
      "cell_type": "code",
      "execution_count": 22,
      "metadata": {
        "id": "GmVZdd4rLORH"
      },
      "outputs": [],
      "source": [
        "# print(get_ensemble_acc(stats['all_models'][:3], test_dl))\n",
        "# probas_ensemble_c100 = get_probas_ensemble(stats['all_models'][:3], test_dl_c100)\n",
        "# probas_ensemble_c100 = probas_ensemble_c100.max(dim=1).values.cpu().numpy()\n",
        "# plot_hist(probas_ensemble_c100)"
      ]
    },
    {
      "cell_type": "code",
      "execution_count": 23,
      "metadata": {
        "id": "FWiOOSd8NHho"
      },
      "outputs": [],
      "source": [
        "# print(model_zoo.resnet18(pretrained=True,num_classes=10))"
      ]
    },
    {
      "cell_type": "code",
      "execution_count": null,
      "metadata": {
        "id": "JNzciegON-WR"
      },
      "outputs": [],
      "source": []
    }
  ],
  "metadata": {
    "accelerator": "GPU",
    "colab": {
      "gpuType": "T4",
      "provenance": []
    },
    "kernelspec": {
      "display_name": "Python 3",
      "name": "python3"
    },
    "language_info": {
      "codemirror_mode": {
        "name": "ipython",
        "version": 3
      },
      "file_extension": ".py",
      "mimetype": "text/x-python",
      "name": "python",
      "nbconvert_exporter": "python",
      "pygments_lexer": "ipython3",
      "version": "3.9.2"
    }
  },
  "nbformat": 4,
  "nbformat_minor": 0
}
